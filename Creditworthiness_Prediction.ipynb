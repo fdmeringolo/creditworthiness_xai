{
 "cells": [
  {
   "cell_type": "markdown",
   "metadata": {},
   "source": [
    "# Creditworthiness Prediction for Credit Card Issuance"
   ]
  },
  {
   "cell_type": "markdown",
   "metadata": {},
   "source": [
    "Sei stato assunto dalla Pro National Bank come data scientist, e il tuo primo incarico consiste nel realizzare un modello in grado di stimare l'affidabilità creditizia dei clienti, al fine di aiutare il team dedicato a comprendere se accettare o meno la richiesta per il rilascio della carta di credito.\n",
    "\n",
    "Ti vengono consegnati i dati anonimizzati di clienti che hanno già ottenuto la carta di credito e ne pagano regolarmente le rate. I dati contengono le informazioni dei correntisti che hanno richiesto l’apertura di una linea di credito.\n",
    "\n",
    "Colonne del dataset\n",
    "\n",
    "- ID: numero identificativo del cliente\n",
    "- CODE_GENDER: sesso del cliente\n",
    "- FLAGOWNCAR: indicatore del possesso di un'automobile\n",
    "- FLAGOWNREALTY: indicatore del possesso di una casa\n",
    "- CNT_CHILDREN: numero di figli\n",
    "- AMTINCOMETOTAL: reddito annuale\n",
    "- NAMEINCOMETYPE: tipo di reddito\n",
    "- NAMEEDUCATIONTYPE: livello di educazione\n",
    "- NAMEFAMILYSTATUS: stato civile\n",
    "- NAMEHOUSINGTYPE: tipo di abitazione\n",
    "- DAYS_BIRTH: numero di giorni trascorsi dalla nascita\n",
    "- DAYS_EMPLOYED: numero di giorni trascorsi dalla data di assunzione (se positivo, indica il numero di giorni da quando è disoccupato)\n",
    "- FLAG_MOBIL: indicatore della presenza di un numero di cellulare\n",
    "- FLAGWORKPHONE: indicatore della presenza di un numero di telefono di lavoro\n",
    "- FLAG_PHONE: indicatore della presenza di un numero di telefono\n",
    "- FLAG_EMAIL: indicatore della presenza di un indirizzo email\n",
    "- OCCUPATION_TYPE: tipo di occupazione\n",
    "- CNTFAMMEMBERS: numero di familiari\n",
    "- TARGET: variabile che vale 1 se il cliente ha una elevata affidabilità creditizia (pagamento costante delle rate), 0 altrimenti.\n",
    "\n",
    "\n",
    "**Obiettivo**\n",
    "\n",
    "Devi realizzare un modello che preveda il target dato, ovvero la variabile TARGET che indica se il cliente ha una buona affidabilità creditizia.\n",
    "\n",
    "\n",
    "Punto bonus\n",
    "\n",
    "Se ad un cliente viene negata la carta di credito, il team deve essere in grado di fornirgli una motivazione. Questo significa che il tuo modello deve fornire delle indicazioni facilmente interpretabili."
   ]
  },
  {
   "cell_type": "markdown",
   "metadata": {},
   "source": [
    "## Data analysis & preprocessing"
   ]
  },
  {
   "cell_type": "code",
   "execution_count": 1,
   "metadata": {},
   "outputs": [],
   "source": [
    "import pandas as pd\n",
    "import numpy as np\n",
    "import matplotlib.pyplot as plt\n",
    "import seaborn as sns"
   ]
  },
  {
   "cell_type": "markdown",
   "metadata": {},
   "source": [
    "Carichiamo il dataset"
   ]
  },
  {
   "cell_type": "code",
   "execution_count": 2,
   "metadata": {},
   "outputs": [
    {
     "data": {
      "text/html": [
       "<div>\n",
       "<style scoped>\n",
       "    .dataframe tbody tr th:only-of-type {\n",
       "        vertical-align: middle;\n",
       "    }\n",
       "\n",
       "    .dataframe tbody tr th {\n",
       "        vertical-align: top;\n",
       "    }\n",
       "\n",
       "    .dataframe thead th {\n",
       "        text-align: right;\n",
       "    }\n",
       "</style>\n",
       "<table border=\"1\" class=\"dataframe\">\n",
       "  <thead>\n",
       "    <tr style=\"text-align: right;\">\n",
       "      <th></th>\n",
       "      <th>ID</th>\n",
       "      <th>CODE_GENDER</th>\n",
       "      <th>FLAG_OWN_CAR</th>\n",
       "      <th>FLAG_OWN_REALTY</th>\n",
       "      <th>CNT_CHILDREN</th>\n",
       "      <th>AMT_INCOME_TOTAL</th>\n",
       "      <th>NAME_INCOME_TYPE</th>\n",
       "      <th>NAME_EDUCATION_TYPE</th>\n",
       "      <th>NAME_FAMILY_STATUS</th>\n",
       "      <th>NAME_HOUSING_TYPE</th>\n",
       "      <th>DAYS_BIRTH</th>\n",
       "      <th>DAYS_EMPLOYED</th>\n",
       "      <th>FLAG_MOBIL</th>\n",
       "      <th>FLAG_WORK_PHONE</th>\n",
       "      <th>FLAG_PHONE</th>\n",
       "      <th>FLAG_EMAIL</th>\n",
       "      <th>OCCUPATION_TYPE</th>\n",
       "      <th>CNT_FAM_MEMBERS</th>\n",
       "      <th>TARGET</th>\n",
       "    </tr>\n",
       "  </thead>\n",
       "  <tbody>\n",
       "    <tr>\n",
       "      <th>0</th>\n",
       "      <td>5008804</td>\n",
       "      <td>M</td>\n",
       "      <td>Y</td>\n",
       "      <td>Y</td>\n",
       "      <td>0</td>\n",
       "      <td>427500.0</td>\n",
       "      <td>Working</td>\n",
       "      <td>Higher education</td>\n",
       "      <td>Civil marriage</td>\n",
       "      <td>Rented apartment</td>\n",
       "      <td>-12005.0</td>\n",
       "      <td>-4542.0</td>\n",
       "      <td>1.0</td>\n",
       "      <td>1.0</td>\n",
       "      <td>0.0</td>\n",
       "      <td>0.0</td>\n",
       "      <td>NaN</td>\n",
       "      <td>2.0</td>\n",
       "      <td>0</td>\n",
       "    </tr>\n",
       "    <tr>\n",
       "      <th>1</th>\n",
       "      <td>5008805</td>\n",
       "      <td>M</td>\n",
       "      <td>Y</td>\n",
       "      <td>Y</td>\n",
       "      <td>0</td>\n",
       "      <td>427500.0</td>\n",
       "      <td>Working</td>\n",
       "      <td>Higher education</td>\n",
       "      <td>Civil marriage</td>\n",
       "      <td>Rented apartment</td>\n",
       "      <td>-12005.0</td>\n",
       "      <td>-4542.0</td>\n",
       "      <td>1.0</td>\n",
       "      <td>1.0</td>\n",
       "      <td>0.0</td>\n",
       "      <td>0.0</td>\n",
       "      <td>NaN</td>\n",
       "      <td>2.0</td>\n",
       "      <td>0</td>\n",
       "    </tr>\n",
       "    <tr>\n",
       "      <th>2</th>\n",
       "      <td>5008806</td>\n",
       "      <td>M</td>\n",
       "      <td>Y</td>\n",
       "      <td>Y</td>\n",
       "      <td>0</td>\n",
       "      <td>112500.0</td>\n",
       "      <td>Working</td>\n",
       "      <td>Secondary / secondary special</td>\n",
       "      <td>Married</td>\n",
       "      <td>House / apartment</td>\n",
       "      <td>-21474.0</td>\n",
       "      <td>-1134.0</td>\n",
       "      <td>1.0</td>\n",
       "      <td>0.0</td>\n",
       "      <td>0.0</td>\n",
       "      <td>0.0</td>\n",
       "      <td>Security staff</td>\n",
       "      <td>2.0</td>\n",
       "      <td>0</td>\n",
       "    </tr>\n",
       "    <tr>\n",
       "      <th>3</th>\n",
       "      <td>5008808</td>\n",
       "      <td>F</td>\n",
       "      <td>N</td>\n",
       "      <td>Y</td>\n",
       "      <td>0</td>\n",
       "      <td>270000.0</td>\n",
       "      <td>Commercial associate</td>\n",
       "      <td>Secondary / secondary special</td>\n",
       "      <td>Single / not married</td>\n",
       "      <td>House / apartment</td>\n",
       "      <td>-19110.0</td>\n",
       "      <td>-3051.0</td>\n",
       "      <td>1.0</td>\n",
       "      <td>0.0</td>\n",
       "      <td>1.0</td>\n",
       "      <td>1.0</td>\n",
       "      <td>Sales staff</td>\n",
       "      <td>1.0</td>\n",
       "      <td>1</td>\n",
       "    </tr>\n",
       "    <tr>\n",
       "      <th>4</th>\n",
       "      <td>5008809</td>\n",
       "      <td>F</td>\n",
       "      <td>N</td>\n",
       "      <td>Y</td>\n",
       "      <td>0</td>\n",
       "      <td>270000.0</td>\n",
       "      <td>Commercial associate</td>\n",
       "      <td>Secondary / secondary special</td>\n",
       "      <td>Single / not married</td>\n",
       "      <td>House / apartment</td>\n",
       "      <td>-19110.0</td>\n",
       "      <td>-3051.0</td>\n",
       "      <td>1.0</td>\n",
       "      <td>0.0</td>\n",
       "      <td>1.0</td>\n",
       "      <td>1.0</td>\n",
       "      <td>Sales staff</td>\n",
       "      <td>1.0</td>\n",
       "      <td>1</td>\n",
       "    </tr>\n",
       "  </tbody>\n",
       "</table>\n",
       "</div>"
      ],
      "text/plain": [
       "        ID CODE_GENDER FLAG_OWN_CAR FLAG_OWN_REALTY  CNT_CHILDREN  \\\n",
       "0  5008804           M            Y               Y             0   \n",
       "1  5008805           M            Y               Y             0   \n",
       "2  5008806           M            Y               Y             0   \n",
       "3  5008808           F            N               Y             0   \n",
       "4  5008809           F            N               Y             0   \n",
       "\n",
       "   AMT_INCOME_TOTAL      NAME_INCOME_TYPE            NAME_EDUCATION_TYPE  \\\n",
       "0          427500.0               Working               Higher education   \n",
       "1          427500.0               Working               Higher education   \n",
       "2          112500.0               Working  Secondary / secondary special   \n",
       "3          270000.0  Commercial associate  Secondary / secondary special   \n",
       "4          270000.0  Commercial associate  Secondary / secondary special   \n",
       "\n",
       "     NAME_FAMILY_STATUS  NAME_HOUSING_TYPE  DAYS_BIRTH  DAYS_EMPLOYED  \\\n",
       "0        Civil marriage   Rented apartment    -12005.0        -4542.0   \n",
       "1        Civil marriage   Rented apartment    -12005.0        -4542.0   \n",
       "2               Married  House / apartment    -21474.0        -1134.0   \n",
       "3  Single / not married  House / apartment    -19110.0        -3051.0   \n",
       "4  Single / not married  House / apartment    -19110.0        -3051.0   \n",
       "\n",
       "   FLAG_MOBIL  FLAG_WORK_PHONE  FLAG_PHONE  FLAG_EMAIL OCCUPATION_TYPE  \\\n",
       "0         1.0              1.0         0.0         0.0             NaN   \n",
       "1         1.0              1.0         0.0         0.0             NaN   \n",
       "2         1.0              0.0         0.0         0.0  Security staff   \n",
       "3         1.0              0.0         1.0         1.0     Sales staff   \n",
       "4         1.0              0.0         1.0         1.0     Sales staff   \n",
       "\n",
       "   CNT_FAM_MEMBERS  TARGET  \n",
       "0              2.0       0  \n",
       "1              2.0       0  \n",
       "2              2.0       0  \n",
       "3              1.0       1  \n",
       "4              1.0       1  "
      ]
     },
     "execution_count": 2,
     "metadata": {},
     "output_type": "execute_result"
    }
   ],
   "source": [
    "URL = \"credit_scoring.csv\"\n",
    "df = pd.read_csv(URL)\n",
    "df.head()"
   ]
  },
  {
   "cell_type": "markdown",
   "metadata": {},
   "source": [
    "Dimensione del dataset"
   ]
  },
  {
   "cell_type": "code",
   "execution_count": 3,
   "metadata": {},
   "outputs": [
    {
     "name": "stdout",
     "output_type": "stream",
     "text": [
      "Il dataset è composto da 19 features e 338427 osservazioni\n"
     ]
    }
   ],
   "source": [
    "print(\"Il dataset è composto da\", df.shape[1], \"features e\", df.shape[0], \"osservazioni\")"
   ]
  },
  {
   "cell_type": "markdown",
   "metadata": {},
   "source": [
    "Lista dei check:\n",
    "- duplicati\n",
    "- valori mancanti\n",
    "- natura delle variabili (gestione delle variabili categoriche)\n",
    "- drop delle informazioni superflue"
   ]
  },
  {
   "cell_type": "markdown",
   "metadata": {},
   "source": [
    "Check duplicati"
   ]
  },
  {
   "cell_type": "code",
   "execution_count": 4,
   "metadata": {},
   "outputs": [
    {
     "name": "stdout",
     "output_type": "stream",
     "text": [
      "Il dataset contiene 0 duplicati\n"
     ]
    }
   ],
   "source": [
    "duplicates = df.duplicated()\n",
    "print(\"Il dataset contiene\", duplicates.sum(), \"duplicati\")"
   ]
  },
  {
   "cell_type": "markdown",
   "metadata": {},
   "source": [
    "Check valori mancanti"
   ]
  },
  {
   "cell_type": "code",
   "execution_count": 5,
   "metadata": {},
   "outputs": [
    {
     "data": {
      "text/plain": [
       "ID                     338427\n",
       "CODE_GENDER            338427\n",
       "FLAG_OWN_CAR           338427\n",
       "FLAG_OWN_REALTY        338427\n",
       "CNT_CHILDREN           338427\n",
       "AMT_INCOME_TOTAL       338427\n",
       "NAME_INCOME_TYPE       338427\n",
       "NAME_EDUCATION_TYPE    338427\n",
       "NAME_FAMILY_STATUS     338426\n",
       "NAME_HOUSING_TYPE      338426\n",
       "DAYS_BIRTH             338426\n",
       "DAYS_EMPLOYED          338426\n",
       "FLAG_MOBIL             338426\n",
       "FLAG_WORK_PHONE        338426\n",
       "FLAG_PHONE             338426\n",
       "FLAG_EMAIL             338426\n",
       "OCCUPATION_TYPE        235085\n",
       "CNT_FAM_MEMBERS        338426\n",
       "TARGET                 338427\n",
       "dtype: int64"
      ]
     },
     "execution_count": 5,
     "metadata": {},
     "output_type": "execute_result"
    }
   ],
   "source": [
    "df.count()"
   ]
  },
  {
   "cell_type": "code",
   "execution_count": 6,
   "metadata": {},
   "outputs": [
    {
     "data": {
      "text/plain": [
       "ID                          0\n",
       "CODE_GENDER                 0\n",
       "FLAG_OWN_CAR                0\n",
       "FLAG_OWN_REALTY             0\n",
       "CNT_CHILDREN                0\n",
       "AMT_INCOME_TOTAL            0\n",
       "NAME_INCOME_TYPE            0\n",
       "NAME_EDUCATION_TYPE         0\n",
       "NAME_FAMILY_STATUS          1\n",
       "NAME_HOUSING_TYPE           1\n",
       "DAYS_BIRTH                  1\n",
       "DAYS_EMPLOYED               1\n",
       "FLAG_MOBIL                  1\n",
       "FLAG_WORK_PHONE             1\n",
       "FLAG_PHONE                  1\n",
       "FLAG_EMAIL                  1\n",
       "OCCUPATION_TYPE        103342\n",
       "CNT_FAM_MEMBERS             1\n",
       "TARGET                      0\n",
       "dtype: int64"
      ]
     },
     "execution_count": 6,
     "metadata": {},
     "output_type": "execute_result"
    }
   ],
   "source": [
    "df.isna().sum()"
   ]
  },
  {
   "cell_type": "code",
   "execution_count": 7,
   "metadata": {},
   "outputs": [
    {
     "data": {
      "text/html": [
       "<div>\n",
       "<style scoped>\n",
       "    .dataframe tbody tr th:only-of-type {\n",
       "        vertical-align: middle;\n",
       "    }\n",
       "\n",
       "    .dataframe tbody tr th {\n",
       "        vertical-align: top;\n",
       "    }\n",
       "\n",
       "    .dataframe thead th {\n",
       "        text-align: right;\n",
       "    }\n",
       "</style>\n",
       "<table border=\"1\" class=\"dataframe\">\n",
       "  <thead>\n",
       "    <tr style=\"text-align: right;\">\n",
       "      <th></th>\n",
       "      <th>ID</th>\n",
       "      <th>CODE_GENDER</th>\n",
       "      <th>FLAG_OWN_CAR</th>\n",
       "      <th>FLAG_OWN_REALTY</th>\n",
       "      <th>CNT_CHILDREN</th>\n",
       "      <th>AMT_INCOME_TOTAL</th>\n",
       "      <th>NAME_INCOME_TYPE</th>\n",
       "      <th>NAME_EDUCATION_TYPE</th>\n",
       "      <th>NAME_FAMILY_STATUS</th>\n",
       "      <th>NAME_HOUSING_TYPE</th>\n",
       "      <th>DAYS_BIRTH</th>\n",
       "      <th>DAYS_EMPLOYED</th>\n",
       "      <th>FLAG_MOBIL</th>\n",
       "      <th>FLAG_WORK_PHONE</th>\n",
       "      <th>FLAG_PHONE</th>\n",
       "      <th>FLAG_EMAIL</th>\n",
       "      <th>OCCUPATION_TYPE</th>\n",
       "      <th>CNT_FAM_MEMBERS</th>\n",
       "      <th>TARGET</th>\n",
       "    </tr>\n",
       "  </thead>\n",
       "  <tbody>\n",
       "    <tr>\n",
       "      <th>338426</th>\n",
       "      <td>6392180</td>\n",
       "      <td>F</td>\n",
       "      <td>N</td>\n",
       "      <td>N</td>\n",
       "      <td>0</td>\n",
       "      <td>67500.0</td>\n",
       "      <td>Working</td>\n",
       "      <td>Secondary / se</td>\n",
       "      <td>NaN</td>\n",
       "      <td>NaN</td>\n",
       "      <td>NaN</td>\n",
       "      <td>NaN</td>\n",
       "      <td>NaN</td>\n",
       "      <td>NaN</td>\n",
       "      <td>NaN</td>\n",
       "      <td>NaN</td>\n",
       "      <td>NaN</td>\n",
       "      <td>NaN</td>\n",
       "      <td>0</td>\n",
       "    </tr>\n",
       "  </tbody>\n",
       "</table>\n",
       "</div>"
      ],
      "text/plain": [
       "             ID CODE_GENDER FLAG_OWN_CAR FLAG_OWN_REALTY  CNT_CHILDREN  \\\n",
       "338426  6392180           F            N               N             0   \n",
       "\n",
       "        AMT_INCOME_TOTAL NAME_INCOME_TYPE NAME_EDUCATION_TYPE  \\\n",
       "338426           67500.0          Working      Secondary / se   \n",
       "\n",
       "       NAME_FAMILY_STATUS NAME_HOUSING_TYPE  DAYS_BIRTH  DAYS_EMPLOYED  \\\n",
       "338426                NaN               NaN         NaN            NaN   \n",
       "\n",
       "        FLAG_MOBIL  FLAG_WORK_PHONE  FLAG_PHONE  FLAG_EMAIL OCCUPATION_TYPE  \\\n",
       "338426         NaN              NaN         NaN         NaN             NaN   \n",
       "\n",
       "        CNT_FAM_MEMBERS  TARGET  \n",
       "338426              NaN       0  "
      ]
     },
     "execution_count": 7,
     "metadata": {},
     "output_type": "execute_result"
    }
   ],
   "source": [
    "#Controllo la riga con missing value\n",
    "df[df[\"NAME_FAMILY_STATUS\"].isna()]"
   ]
  },
  {
   "cell_type": "code",
   "execution_count": 8,
   "metadata": {},
   "outputs": [
    {
     "data": {
      "text/plain": [
       "ID                          0\n",
       "CODE_GENDER                 0\n",
       "FLAG_OWN_CAR                0\n",
       "FLAG_OWN_REALTY             0\n",
       "CNT_CHILDREN                0\n",
       "AMT_INCOME_TOTAL            0\n",
       "NAME_INCOME_TYPE            0\n",
       "NAME_EDUCATION_TYPE         0\n",
       "NAME_FAMILY_STATUS          0\n",
       "NAME_HOUSING_TYPE           0\n",
       "DAYS_BIRTH                  0\n",
       "DAYS_EMPLOYED               0\n",
       "FLAG_MOBIL                  0\n",
       "FLAG_WORK_PHONE             0\n",
       "FLAG_PHONE                  0\n",
       "FLAG_EMAIL                  0\n",
       "OCCUPATION_TYPE        103341\n",
       "CNT_FAM_MEMBERS             0\n",
       "TARGET                      0\n",
       "dtype: int64"
      ]
     },
     "execution_count": 8,
     "metadata": {},
     "output_type": "execute_result"
    }
   ],
   "source": [
    "df_test = df.dropna(subset=[\"NAME_FAMILY_STATUS\"])\n",
    "df_test.isna().sum()\n",
    "#df_test.count()"
   ]
  },
  {
   "cell_type": "markdown",
   "metadata": {},
   "source": [
    "Dall'analisi emerge che c'è una riga con diversi valori mancanti che possiamo eliminare e una feature, OCCUPATIONAL TYPE, da gestire successivamente"
   ]
  },
  {
   "cell_type": "code",
   "execution_count": 9,
   "metadata": {},
   "outputs": [],
   "source": [
    "df.dropna(subset=[\"NAME_FAMILY_STATUS\"], inplace=True)"
   ]
  },
  {
   "cell_type": "markdown",
   "metadata": {},
   "source": [
    "Check variabili: numeriche vs categoriche"
   ]
  },
  {
   "cell_type": "code",
   "execution_count": 10,
   "metadata": {},
   "outputs": [
    {
     "name": "stdout",
     "output_type": "stream",
     "text": [
      "<class 'pandas.core.frame.DataFrame'>\n",
      "Int64Index: 338426 entries, 0 to 338425\n",
      "Data columns (total 19 columns):\n",
      " #   Column               Non-Null Count   Dtype  \n",
      "---  ------               --------------   -----  \n",
      " 0   ID                   338426 non-null  int64  \n",
      " 1   CODE_GENDER          338426 non-null  object \n",
      " 2   FLAG_OWN_CAR         338426 non-null  object \n",
      " 3   FLAG_OWN_REALTY      338426 non-null  object \n",
      " 4   CNT_CHILDREN         338426 non-null  int64  \n",
      " 5   AMT_INCOME_TOTAL     338426 non-null  float64\n",
      " 6   NAME_INCOME_TYPE     338426 non-null  object \n",
      " 7   NAME_EDUCATION_TYPE  338426 non-null  object \n",
      " 8   NAME_FAMILY_STATUS   338426 non-null  object \n",
      " 9   NAME_HOUSING_TYPE    338426 non-null  object \n",
      " 10  DAYS_BIRTH           338426 non-null  float64\n",
      " 11  DAYS_EMPLOYED        338426 non-null  float64\n",
      " 12  FLAG_MOBIL           338426 non-null  float64\n",
      " 13  FLAG_WORK_PHONE      338426 non-null  float64\n",
      " 14  FLAG_PHONE           338426 non-null  float64\n",
      " 15  FLAG_EMAIL           338426 non-null  float64\n",
      " 16  OCCUPATION_TYPE      235085 non-null  object \n",
      " 17  CNT_FAM_MEMBERS      338426 non-null  float64\n",
      " 18  TARGET               338426 non-null  int64  \n",
      "dtypes: float64(8), int64(3), object(8)\n",
      "memory usage: 51.6+ MB\n"
     ]
    }
   ],
   "source": [
    "df.info()"
   ]
  },
  {
   "cell_type": "code",
   "execution_count": 11,
   "metadata": {},
   "outputs": [
    {
     "data": {
      "text/html": [
       "<div>\n",
       "<style scoped>\n",
       "    .dataframe tbody tr th:only-of-type {\n",
       "        vertical-align: middle;\n",
       "    }\n",
       "\n",
       "    .dataframe tbody tr th {\n",
       "        vertical-align: top;\n",
       "    }\n",
       "\n",
       "    .dataframe thead th {\n",
       "        text-align: right;\n",
       "    }\n",
       "</style>\n",
       "<table border=\"1\" class=\"dataframe\">\n",
       "  <thead>\n",
       "    <tr style=\"text-align: right;\">\n",
       "      <th></th>\n",
       "      <th>ID</th>\n",
       "      <th>CNT_CHILDREN</th>\n",
       "      <th>AMT_INCOME_TOTAL</th>\n",
       "      <th>DAYS_BIRTH</th>\n",
       "      <th>DAYS_EMPLOYED</th>\n",
       "      <th>FLAG_MOBIL</th>\n",
       "      <th>FLAG_WORK_PHONE</th>\n",
       "      <th>FLAG_PHONE</th>\n",
       "      <th>FLAG_EMAIL</th>\n",
       "      <th>CNT_FAM_MEMBERS</th>\n",
       "      <th>TARGET</th>\n",
       "    </tr>\n",
       "  </thead>\n",
       "  <tbody>\n",
       "    <tr>\n",
       "      <th>count</th>\n",
       "      <td>3.384260e+05</td>\n",
       "      <td>338426.000000</td>\n",
       "      <td>3.384260e+05</td>\n",
       "      <td>338426.000000</td>\n",
       "      <td>338426.000000</td>\n",
       "      <td>338426.0</td>\n",
       "      <td>338426.000000</td>\n",
       "      <td>338426.000000</td>\n",
       "      <td>338426.000000</td>\n",
       "      <td>338426.000000</td>\n",
       "      <td>338426.000000</td>\n",
       "    </tr>\n",
       "    <tr>\n",
       "      <th>mean</th>\n",
       "      <td>5.821199e+06</td>\n",
       "      <td>0.428936</td>\n",
       "      <td>1.876547e+05</td>\n",
       "      <td>-15998.249644</td>\n",
       "      <td>60238.497163</td>\n",
       "      <td>1.0</td>\n",
       "      <td>0.211379</td>\n",
       "      <td>0.293302</td>\n",
       "      <td>0.105181</td>\n",
       "      <td>2.197228</td>\n",
       "      <td>0.087824</td>\n",
       "    </tr>\n",
       "    <tr>\n",
       "      <th>std</th>\n",
       "      <td>4.517700e+05</td>\n",
       "      <td>0.727991</td>\n",
       "      <td>1.106747e+05</td>\n",
       "      <td>4180.240053</td>\n",
       "      <td>138499.153147</td>\n",
       "      <td>0.0</td>\n",
       "      <td>0.408287</td>\n",
       "      <td>0.455276</td>\n",
       "      <td>0.306787</td>\n",
       "      <td>0.899570</td>\n",
       "      <td>0.283040</td>\n",
       "    </tr>\n",
       "    <tr>\n",
       "      <th>min</th>\n",
       "      <td>5.008804e+06</td>\n",
       "      <td>0.000000</td>\n",
       "      <td>2.610000e+04</td>\n",
       "      <td>-25201.000000</td>\n",
       "      <td>-17531.000000</td>\n",
       "      <td>1.0</td>\n",
       "      <td>0.000000</td>\n",
       "      <td>0.000000</td>\n",
       "      <td>0.000000</td>\n",
       "      <td>1.000000</td>\n",
       "      <td>0.000000</td>\n",
       "    </tr>\n",
       "    <tr>\n",
       "      <th>25%</th>\n",
       "      <td>5.439601e+06</td>\n",
       "      <td>0.000000</td>\n",
       "      <td>1.215000e+05</td>\n",
       "      <td>-19482.000000</td>\n",
       "      <td>-3116.000000</td>\n",
       "      <td>1.0</td>\n",
       "      <td>0.000000</td>\n",
       "      <td>0.000000</td>\n",
       "      <td>0.000000</td>\n",
       "      <td>2.000000</td>\n",
       "      <td>0.000000</td>\n",
       "    </tr>\n",
       "    <tr>\n",
       "      <th>50%</th>\n",
       "      <td>5.878906e+06</td>\n",
       "      <td>0.000000</td>\n",
       "      <td>1.620000e+05</td>\n",
       "      <td>-15622.000000</td>\n",
       "      <td>-1485.000000</td>\n",
       "      <td>1.0</td>\n",
       "      <td>0.000000</td>\n",
       "      <td>0.000000</td>\n",
       "      <td>0.000000</td>\n",
       "      <td>2.000000</td>\n",
       "      <td>0.000000</td>\n",
       "    </tr>\n",
       "    <tr>\n",
       "      <th>75%</th>\n",
       "      <td>6.140205e+06</td>\n",
       "      <td>1.000000</td>\n",
       "      <td>2.250000e+05</td>\n",
       "      <td>-12524.000000</td>\n",
       "      <td>-380.000000</td>\n",
       "      <td>1.0</td>\n",
       "      <td>0.000000</td>\n",
       "      <td>1.000000</td>\n",
       "      <td>0.000000</td>\n",
       "      <td>3.000000</td>\n",
       "      <td>0.000000</td>\n",
       "    </tr>\n",
       "    <tr>\n",
       "      <th>max</th>\n",
       "      <td>6.841875e+06</td>\n",
       "      <td>19.000000</td>\n",
       "      <td>6.750000e+06</td>\n",
       "      <td>-7489.000000</td>\n",
       "      <td>365243.000000</td>\n",
       "      <td>1.0</td>\n",
       "      <td>1.000000</td>\n",
       "      <td>1.000000</td>\n",
       "      <td>1.000000</td>\n",
       "      <td>20.000000</td>\n",
       "      <td>1.000000</td>\n",
       "    </tr>\n",
       "  </tbody>\n",
       "</table>\n",
       "</div>"
      ],
      "text/plain": [
       "                 ID   CNT_CHILDREN  AMT_INCOME_TOTAL     DAYS_BIRTH  \\\n",
       "count  3.384260e+05  338426.000000      3.384260e+05  338426.000000   \n",
       "mean   5.821199e+06       0.428936      1.876547e+05  -15998.249644   \n",
       "std    4.517700e+05       0.727991      1.106747e+05    4180.240053   \n",
       "min    5.008804e+06       0.000000      2.610000e+04  -25201.000000   \n",
       "25%    5.439601e+06       0.000000      1.215000e+05  -19482.000000   \n",
       "50%    5.878906e+06       0.000000      1.620000e+05  -15622.000000   \n",
       "75%    6.140205e+06       1.000000      2.250000e+05  -12524.000000   \n",
       "max    6.841875e+06      19.000000      6.750000e+06   -7489.000000   \n",
       "\n",
       "       DAYS_EMPLOYED  FLAG_MOBIL  FLAG_WORK_PHONE     FLAG_PHONE  \\\n",
       "count  338426.000000    338426.0    338426.000000  338426.000000   \n",
       "mean    60238.497163         1.0         0.211379       0.293302   \n",
       "std    138499.153147         0.0         0.408287       0.455276   \n",
       "min    -17531.000000         1.0         0.000000       0.000000   \n",
       "25%     -3116.000000         1.0         0.000000       0.000000   \n",
       "50%     -1485.000000         1.0         0.000000       0.000000   \n",
       "75%      -380.000000         1.0         0.000000       1.000000   \n",
       "max    365243.000000         1.0         1.000000       1.000000   \n",
       "\n",
       "          FLAG_EMAIL  CNT_FAM_MEMBERS         TARGET  \n",
       "count  338426.000000    338426.000000  338426.000000  \n",
       "mean        0.105181         2.197228       0.087824  \n",
       "std         0.306787         0.899570       0.283040  \n",
       "min         0.000000         1.000000       0.000000  \n",
       "25%         0.000000         2.000000       0.000000  \n",
       "50%         0.000000         2.000000       0.000000  \n",
       "75%         0.000000         3.000000       0.000000  \n",
       "max         1.000000        20.000000       1.000000  "
      ]
     },
     "execution_count": 11,
     "metadata": {},
     "output_type": "execute_result"
    }
   ],
   "source": [
    "df.describe()"
   ]
  },
  {
   "cell_type": "code",
   "execution_count": 12,
   "metadata": {},
   "outputs": [
    {
     "data": {
      "text/plain": [
       "1.0    338426\n",
       "Name: FLAG_MOBIL, dtype: int64"
      ]
     },
     "execution_count": 12,
     "metadata": {},
     "output_type": "execute_result"
    }
   ],
   "source": [
    "df[\"FLAG_MOBIL\"].value_counts()"
   ]
  },
  {
   "cell_type": "markdown",
   "metadata": {},
   "source": [
    "Le feature ID e FLAG_MOBILE posso essere droppate. Non hanno contenuto informativo"
   ]
  },
  {
   "cell_type": "code",
   "execution_count": 13,
   "metadata": {},
   "outputs": [
    {
     "data": {
      "text/html": [
       "<div>\n",
       "<style scoped>\n",
       "    .dataframe tbody tr th:only-of-type {\n",
       "        vertical-align: middle;\n",
       "    }\n",
       "\n",
       "    .dataframe tbody tr th {\n",
       "        vertical-align: top;\n",
       "    }\n",
       "\n",
       "    .dataframe thead th {\n",
       "        text-align: right;\n",
       "    }\n",
       "</style>\n",
       "<table border=\"1\" class=\"dataframe\">\n",
       "  <thead>\n",
       "    <tr style=\"text-align: right;\">\n",
       "      <th></th>\n",
       "      <th>CODE_GENDER</th>\n",
       "      <th>FLAG_OWN_CAR</th>\n",
       "      <th>FLAG_OWN_REALTY</th>\n",
       "      <th>CNT_CHILDREN</th>\n",
       "      <th>AMT_INCOME_TOTAL</th>\n",
       "      <th>NAME_INCOME_TYPE</th>\n",
       "      <th>NAME_EDUCATION_TYPE</th>\n",
       "      <th>NAME_FAMILY_STATUS</th>\n",
       "      <th>NAME_HOUSING_TYPE</th>\n",
       "      <th>DAYS_BIRTH</th>\n",
       "      <th>DAYS_EMPLOYED</th>\n",
       "      <th>FLAG_WORK_PHONE</th>\n",
       "      <th>FLAG_PHONE</th>\n",
       "      <th>FLAG_EMAIL</th>\n",
       "      <th>OCCUPATION_TYPE</th>\n",
       "      <th>CNT_FAM_MEMBERS</th>\n",
       "      <th>TARGET</th>\n",
       "    </tr>\n",
       "  </thead>\n",
       "  <tbody>\n",
       "    <tr>\n",
       "      <th>0</th>\n",
       "      <td>M</td>\n",
       "      <td>Y</td>\n",
       "      <td>Y</td>\n",
       "      <td>0</td>\n",
       "      <td>427500.0</td>\n",
       "      <td>Working</td>\n",
       "      <td>Higher education</td>\n",
       "      <td>Civil marriage</td>\n",
       "      <td>Rented apartment</td>\n",
       "      <td>-12005.0</td>\n",
       "      <td>-4542.0</td>\n",
       "      <td>1.0</td>\n",
       "      <td>0.0</td>\n",
       "      <td>0.0</td>\n",
       "      <td>NaN</td>\n",
       "      <td>2.0</td>\n",
       "      <td>0</td>\n",
       "    </tr>\n",
       "    <tr>\n",
       "      <th>1</th>\n",
       "      <td>M</td>\n",
       "      <td>Y</td>\n",
       "      <td>Y</td>\n",
       "      <td>0</td>\n",
       "      <td>427500.0</td>\n",
       "      <td>Working</td>\n",
       "      <td>Higher education</td>\n",
       "      <td>Civil marriage</td>\n",
       "      <td>Rented apartment</td>\n",
       "      <td>-12005.0</td>\n",
       "      <td>-4542.0</td>\n",
       "      <td>1.0</td>\n",
       "      <td>0.0</td>\n",
       "      <td>0.0</td>\n",
       "      <td>NaN</td>\n",
       "      <td>2.0</td>\n",
       "      <td>0</td>\n",
       "    </tr>\n",
       "    <tr>\n",
       "      <th>2</th>\n",
       "      <td>M</td>\n",
       "      <td>Y</td>\n",
       "      <td>Y</td>\n",
       "      <td>0</td>\n",
       "      <td>112500.0</td>\n",
       "      <td>Working</td>\n",
       "      <td>Secondary / secondary special</td>\n",
       "      <td>Married</td>\n",
       "      <td>House / apartment</td>\n",
       "      <td>-21474.0</td>\n",
       "      <td>-1134.0</td>\n",
       "      <td>0.0</td>\n",
       "      <td>0.0</td>\n",
       "      <td>0.0</td>\n",
       "      <td>Security staff</td>\n",
       "      <td>2.0</td>\n",
       "      <td>0</td>\n",
       "    </tr>\n",
       "    <tr>\n",
       "      <th>3</th>\n",
       "      <td>F</td>\n",
       "      <td>N</td>\n",
       "      <td>Y</td>\n",
       "      <td>0</td>\n",
       "      <td>270000.0</td>\n",
       "      <td>Commercial associate</td>\n",
       "      <td>Secondary / secondary special</td>\n",
       "      <td>Single / not married</td>\n",
       "      <td>House / apartment</td>\n",
       "      <td>-19110.0</td>\n",
       "      <td>-3051.0</td>\n",
       "      <td>0.0</td>\n",
       "      <td>1.0</td>\n",
       "      <td>1.0</td>\n",
       "      <td>Sales staff</td>\n",
       "      <td>1.0</td>\n",
       "      <td>1</td>\n",
       "    </tr>\n",
       "    <tr>\n",
       "      <th>4</th>\n",
       "      <td>F</td>\n",
       "      <td>N</td>\n",
       "      <td>Y</td>\n",
       "      <td>0</td>\n",
       "      <td>270000.0</td>\n",
       "      <td>Commercial associate</td>\n",
       "      <td>Secondary / secondary special</td>\n",
       "      <td>Single / not married</td>\n",
       "      <td>House / apartment</td>\n",
       "      <td>-19110.0</td>\n",
       "      <td>-3051.0</td>\n",
       "      <td>0.0</td>\n",
       "      <td>1.0</td>\n",
       "      <td>1.0</td>\n",
       "      <td>Sales staff</td>\n",
       "      <td>1.0</td>\n",
       "      <td>1</td>\n",
       "    </tr>\n",
       "  </tbody>\n",
       "</table>\n",
       "</div>"
      ],
      "text/plain": [
       "  CODE_GENDER FLAG_OWN_CAR FLAG_OWN_REALTY  CNT_CHILDREN  AMT_INCOME_TOTAL  \\\n",
       "0           M            Y               Y             0          427500.0   \n",
       "1           M            Y               Y             0          427500.0   \n",
       "2           M            Y               Y             0          112500.0   \n",
       "3           F            N               Y             0          270000.0   \n",
       "4           F            N               Y             0          270000.0   \n",
       "\n",
       "       NAME_INCOME_TYPE            NAME_EDUCATION_TYPE    NAME_FAMILY_STATUS  \\\n",
       "0               Working               Higher education        Civil marriage   \n",
       "1               Working               Higher education        Civil marriage   \n",
       "2               Working  Secondary / secondary special               Married   \n",
       "3  Commercial associate  Secondary / secondary special  Single / not married   \n",
       "4  Commercial associate  Secondary / secondary special  Single / not married   \n",
       "\n",
       "   NAME_HOUSING_TYPE  DAYS_BIRTH  DAYS_EMPLOYED  FLAG_WORK_PHONE  FLAG_PHONE  \\\n",
       "0   Rented apartment    -12005.0        -4542.0              1.0         0.0   \n",
       "1   Rented apartment    -12005.0        -4542.0              1.0         0.0   \n",
       "2  House / apartment    -21474.0        -1134.0              0.0         0.0   \n",
       "3  House / apartment    -19110.0        -3051.0              0.0         1.0   \n",
       "4  House / apartment    -19110.0        -3051.0              0.0         1.0   \n",
       "\n",
       "   FLAG_EMAIL OCCUPATION_TYPE  CNT_FAM_MEMBERS  TARGET  \n",
       "0         0.0             NaN              2.0       0  \n",
       "1         0.0             NaN              2.0       0  \n",
       "2         0.0  Security staff              2.0       0  \n",
       "3         1.0     Sales staff              1.0       1  \n",
       "4         1.0     Sales staff              1.0       1  "
      ]
     },
     "execution_count": 13,
     "metadata": {},
     "output_type": "execute_result"
    }
   ],
   "source": [
    "df.drop(columns=[\"ID\",\"FLAG_MOBIL\"], inplace=True)\n",
    "df.head()"
   ]
  },
  {
   "cell_type": "markdown",
   "metadata": {},
   "source": [
    "Trasformazione dei dati qualitativi in dati quantitativi"
   ]
  },
  {
   "cell_type": "code",
   "execution_count": 14,
   "metadata": {},
   "outputs": [
    {
     "name": "stdout",
     "output_type": "stream",
     "text": [
      "Il dataset contiene 9 features numeriche\n",
      "Il dataset contiene 8 features categoriche\n"
     ]
    }
   ],
   "source": [
    "numerical_types = ['int64', 'float64']\n",
    "numerical_features = [col for col in df.columns if df[col].dtypes in numerical_types]\n",
    "print(\"Il dataset contiene\", len(numerical_features), \"features numeriche\")\n",
    "cat_features = [col for col in df.columns if df[col].dtypes == 'object']\n",
    "print(\"Il dataset contiene\", len(cat_features), \"features categoriche\")"
   ]
  },
  {
   "cell_type": "markdown",
   "metadata": {},
   "source": [
    "Capiamo quali strategie utilizzare per gestire i dati mancanti"
   ]
  },
  {
   "cell_type": "code",
   "execution_count": 15,
   "metadata": {},
   "outputs": [
    {
     "name": "stdout",
     "output_type": "stream",
     "text": [
      "La feature CODE_GENDER ha 2 categorie\n",
      "     che sono: ['M' 'F']\n",
      "------------------------------------------------------------------\n",
      "La feature FLAG_OWN_CAR ha 2 categorie\n",
      "     che sono: ['Y' 'N']\n",
      "------------------------------------------------------------------\n",
      "La feature FLAG_OWN_REALTY ha 2 categorie\n",
      "     che sono: ['Y' 'N']\n",
      "------------------------------------------------------------------\n",
      "La feature NAME_INCOME_TYPE ha 5 categorie\n",
      "     che sono: ['Working' 'Commercial associate' 'Pensioner' 'State servant' 'Student']\n",
      "------------------------------------------------------------------\n",
      "La feature NAME_EDUCATION_TYPE ha 5 categorie\n",
      "     che sono: ['Higher education' 'Secondary / secondary special' 'Incomplete higher'\n",
      " 'Lower secondary' 'Academic degree']\n",
      "------------------------------------------------------------------\n",
      "La feature NAME_FAMILY_STATUS ha 5 categorie\n",
      "     che sono: ['Civil marriage' 'Married' 'Single / not married' 'Separated' 'Widow']\n",
      "------------------------------------------------------------------\n",
      "La feature NAME_HOUSING_TYPE ha 6 categorie\n",
      "     che sono: ['Rented apartment' 'House / apartment' 'Municipal apartment'\n",
      " 'With parents' 'Co-op apartment' 'Office apartment']\n",
      "------------------------------------------------------------------\n",
      "La feature OCCUPATION_TYPE ha 18 categorie\n",
      "     che sono: [nan 'Security staff' 'Sales staff' 'Accountants' 'Laborers' 'Managers'\n",
      " 'Drivers' 'Core staff' 'High skill tech staff' 'Cleaning staff'\n",
      " 'Private service staff' 'Cooking staff' 'Low-skill Laborers'\n",
      " 'Medicine staff' 'Secretaries' 'Waiters/barmen staff' 'HR staff'\n",
      " 'Realty agents' 'IT staff']\n",
      "------------------------------------------------------------------\n"
     ]
    }
   ],
   "source": [
    "for cat in cat_features:\n",
    "    print(\"La feature\", cat, \"ha\", df[cat].nunique(), \"categorie\")\n",
    "    print(\"     che sono:\", df[cat].unique())\n",
    "    print(\"------------------------------------------------------------------\")"
   ]
  },
  {
   "cell_type": "markdown",
   "metadata": {},
   "source": [
    "Concludo la gestione dei dati mancanti associando una nuova label alle OCCUPATION mancanti"
   ]
  },
  {
   "cell_type": "code",
   "execution_count": 42,
   "metadata": {},
   "outputs": [
    {
     "name": "stdout",
     "output_type": "stream",
     "text": [
      "La feature 'OCCUPATION_TYPE' ha 0 valori mancanti\n",
      "La feature 'OCCUPATION_TYPE' ha 19 categorie\n"
     ]
    }
   ],
   "source": [
    "df[\"OCCUPATION_TYPE\"] = df[\"OCCUPATION_TYPE\"].fillna(\"unknown_occupation\") \n",
    "na_count = df[\"OCCUPATION_TYPE\"].isna().sum()\n",
    "print(f\"La feature 'OCCUPATION_TYPE' ha {na_count} valori mancanti\")\n",
    "print(\"La feature 'OCCUPATION_TYPE' ha\", df[\"OCCUPATION_TYPE\"].nunique(), \"categorie\")"
   ]
  },
  {
   "cell_type": "markdown",
   "metadata": {},
   "source": [
    "Abbiamo quindi:\n",
    "- controllato la presenza di duplicati\n",
    "- controllato e gestito i dati mancanti\n",
    "\n",
    "Manca:\n",
    "- Encoding delle variabili categoriche"
   ]
  },
  {
   "cell_type": "code",
   "execution_count": 43,
   "metadata": {},
   "outputs": [
    {
     "name": "stdout",
     "output_type": "stream",
     "text": [
      "La trasformazione ha generato un dataset con 52 features rispetto alle 17 originali\n",
      "(338426, 52) vs (338426, 17)\n"
     ]
    }
   ],
   "source": [
    "from sklearn.preprocessing import OneHotEncoder, LabelEncoder, OrdinalEncoder\n",
    "from sklearn.compose import ColumnTransformer\n",
    "\n",
    "df_test = df.copy()\n",
    "cat_features = [col for col in df.columns if df[col].dtypes == 'object']\n",
    "\n",
    "encoder = ColumnTransformer([('LE', OrdinalEncoder(), cat_features[:3]),\n",
    "                             ('OHE', OneHotEncoder(), cat_features[3:])], remainder=\"passthrough\") #handle_unknown='ignore'\n",
    "\n",
    "df_test = encoder.fit_transform(df_test)\n",
    "print(\"La trasformazione ha generato un dataset con\", df_test.shape[1], \"features rispetto alle\", df.shape[1], \"originali\")\n",
    "print(df_test.shape, \"vs\", df.shape)"
   ]
  },
  {
   "cell_type": "markdown",
   "metadata": {},
   "source": [
    "Ricostruiamo il dataset per vedere che tutto sia corretto"
   ]
  },
  {
   "cell_type": "code",
   "execution_count": 44,
   "metadata": {},
   "outputs": [
    {
     "data": {
      "text/plain": [
       "52"
      ]
     },
     "execution_count": 44,
     "metadata": {},
     "output_type": "execute_result"
    }
   ],
   "source": [
    "# Get feature names for OneHotEncoder\n",
    "columns = df.columns.tolist()\n",
    "ohe_feature_names = encoder.named_transformers_['OHE'].get_feature_names_out(cat_features[3:])\n",
    "remaining_columns = [col for col in columns if col not in cat_features]\n",
    "\n",
    "# Combine feature names\n",
    "all_feature_names = [\n",
    "    *cat_features[:3], \n",
    "    *ohe_feature_names, \n",
    "    *remaining_columns\n",
    "]\n",
    "\n",
    "len(all_feature_names)\n"
   ]
  },
  {
   "cell_type": "code",
   "execution_count": 45,
   "metadata": {},
   "outputs": [
    {
     "data": {
      "text/html": [
       "<div>\n",
       "<style scoped>\n",
       "    .dataframe tbody tr th:only-of-type {\n",
       "        vertical-align: middle;\n",
       "    }\n",
       "\n",
       "    .dataframe tbody tr th {\n",
       "        vertical-align: top;\n",
       "    }\n",
       "\n",
       "    .dataframe thead th {\n",
       "        text-align: right;\n",
       "    }\n",
       "</style>\n",
       "<table border=\"1\" class=\"dataframe\">\n",
       "  <thead>\n",
       "    <tr style=\"text-align: right;\">\n",
       "      <th></th>\n",
       "      <th>CODE_GENDER</th>\n",
       "      <th>FLAG_OWN_CAR</th>\n",
       "      <th>FLAG_OWN_REALTY</th>\n",
       "      <th>NAME_INCOME_TYPE_Commercial associate</th>\n",
       "      <th>NAME_INCOME_TYPE_Pensioner</th>\n",
       "      <th>NAME_INCOME_TYPE_State servant</th>\n",
       "      <th>NAME_INCOME_TYPE_Student</th>\n",
       "      <th>NAME_INCOME_TYPE_Working</th>\n",
       "      <th>NAME_EDUCATION_TYPE_Academic degree</th>\n",
       "      <th>NAME_EDUCATION_TYPE_Higher education</th>\n",
       "      <th>...</th>\n",
       "      <th>OCCUPATION_TYPE_unknown_occupatio</th>\n",
       "      <th>CNT_CHILDREN</th>\n",
       "      <th>AMT_INCOME_TOTAL</th>\n",
       "      <th>DAYS_BIRTH</th>\n",
       "      <th>DAYS_EMPLOYED</th>\n",
       "      <th>FLAG_WORK_PHONE</th>\n",
       "      <th>FLAG_PHONE</th>\n",
       "      <th>FLAG_EMAIL</th>\n",
       "      <th>CNT_FAM_MEMBERS</th>\n",
       "      <th>TARGET</th>\n",
       "    </tr>\n",
       "  </thead>\n",
       "  <tbody>\n",
       "    <tr>\n",
       "      <th>0</th>\n",
       "      <td>1.0</td>\n",
       "      <td>1.0</td>\n",
       "      <td>1.0</td>\n",
       "      <td>0.0</td>\n",
       "      <td>0.0</td>\n",
       "      <td>0.0</td>\n",
       "      <td>0.0</td>\n",
       "      <td>1.0</td>\n",
       "      <td>0.0</td>\n",
       "      <td>1.0</td>\n",
       "      <td>...</td>\n",
       "      <td>1.0</td>\n",
       "      <td>0.0</td>\n",
       "      <td>427500.0</td>\n",
       "      <td>-12005.0</td>\n",
       "      <td>-4542.0</td>\n",
       "      <td>1.0</td>\n",
       "      <td>0.0</td>\n",
       "      <td>0.0</td>\n",
       "      <td>2.0</td>\n",
       "      <td>0.0</td>\n",
       "    </tr>\n",
       "    <tr>\n",
       "      <th>1</th>\n",
       "      <td>1.0</td>\n",
       "      <td>1.0</td>\n",
       "      <td>1.0</td>\n",
       "      <td>0.0</td>\n",
       "      <td>0.0</td>\n",
       "      <td>0.0</td>\n",
       "      <td>0.0</td>\n",
       "      <td>1.0</td>\n",
       "      <td>0.0</td>\n",
       "      <td>1.0</td>\n",
       "      <td>...</td>\n",
       "      <td>1.0</td>\n",
       "      <td>0.0</td>\n",
       "      <td>427500.0</td>\n",
       "      <td>-12005.0</td>\n",
       "      <td>-4542.0</td>\n",
       "      <td>1.0</td>\n",
       "      <td>0.0</td>\n",
       "      <td>0.0</td>\n",
       "      <td>2.0</td>\n",
       "      <td>0.0</td>\n",
       "    </tr>\n",
       "    <tr>\n",
       "      <th>2</th>\n",
       "      <td>1.0</td>\n",
       "      <td>1.0</td>\n",
       "      <td>1.0</td>\n",
       "      <td>0.0</td>\n",
       "      <td>0.0</td>\n",
       "      <td>0.0</td>\n",
       "      <td>0.0</td>\n",
       "      <td>1.0</td>\n",
       "      <td>0.0</td>\n",
       "      <td>0.0</td>\n",
       "      <td>...</td>\n",
       "      <td>0.0</td>\n",
       "      <td>0.0</td>\n",
       "      <td>112500.0</td>\n",
       "      <td>-21474.0</td>\n",
       "      <td>-1134.0</td>\n",
       "      <td>0.0</td>\n",
       "      <td>0.0</td>\n",
       "      <td>0.0</td>\n",
       "      <td>2.0</td>\n",
       "      <td>0.0</td>\n",
       "    </tr>\n",
       "    <tr>\n",
       "      <th>3</th>\n",
       "      <td>0.0</td>\n",
       "      <td>0.0</td>\n",
       "      <td>1.0</td>\n",
       "      <td>1.0</td>\n",
       "      <td>0.0</td>\n",
       "      <td>0.0</td>\n",
       "      <td>0.0</td>\n",
       "      <td>0.0</td>\n",
       "      <td>0.0</td>\n",
       "      <td>0.0</td>\n",
       "      <td>...</td>\n",
       "      <td>0.0</td>\n",
       "      <td>0.0</td>\n",
       "      <td>270000.0</td>\n",
       "      <td>-19110.0</td>\n",
       "      <td>-3051.0</td>\n",
       "      <td>0.0</td>\n",
       "      <td>1.0</td>\n",
       "      <td>1.0</td>\n",
       "      <td>1.0</td>\n",
       "      <td>1.0</td>\n",
       "    </tr>\n",
       "    <tr>\n",
       "      <th>4</th>\n",
       "      <td>0.0</td>\n",
       "      <td>0.0</td>\n",
       "      <td>1.0</td>\n",
       "      <td>1.0</td>\n",
       "      <td>0.0</td>\n",
       "      <td>0.0</td>\n",
       "      <td>0.0</td>\n",
       "      <td>0.0</td>\n",
       "      <td>0.0</td>\n",
       "      <td>0.0</td>\n",
       "      <td>...</td>\n",
       "      <td>0.0</td>\n",
       "      <td>0.0</td>\n",
       "      <td>270000.0</td>\n",
       "      <td>-19110.0</td>\n",
       "      <td>-3051.0</td>\n",
       "      <td>0.0</td>\n",
       "      <td>1.0</td>\n",
       "      <td>1.0</td>\n",
       "      <td>1.0</td>\n",
       "      <td>1.0</td>\n",
       "    </tr>\n",
       "  </tbody>\n",
       "</table>\n",
       "<p>5 rows × 52 columns</p>\n",
       "</div>"
      ],
      "text/plain": [
       "   CODE_GENDER  FLAG_OWN_CAR  FLAG_OWN_REALTY  \\\n",
       "0          1.0           1.0              1.0   \n",
       "1          1.0           1.0              1.0   \n",
       "2          1.0           1.0              1.0   \n",
       "3          0.0           0.0              1.0   \n",
       "4          0.0           0.0              1.0   \n",
       "\n",
       "   NAME_INCOME_TYPE_Commercial associate  NAME_INCOME_TYPE_Pensioner  \\\n",
       "0                                    0.0                         0.0   \n",
       "1                                    0.0                         0.0   \n",
       "2                                    0.0                         0.0   \n",
       "3                                    1.0                         0.0   \n",
       "4                                    1.0                         0.0   \n",
       "\n",
       "   NAME_INCOME_TYPE_State servant  NAME_INCOME_TYPE_Student  \\\n",
       "0                             0.0                       0.0   \n",
       "1                             0.0                       0.0   \n",
       "2                             0.0                       0.0   \n",
       "3                             0.0                       0.0   \n",
       "4                             0.0                       0.0   \n",
       "\n",
       "   NAME_INCOME_TYPE_Working  NAME_EDUCATION_TYPE_Academic degree  \\\n",
       "0                       1.0                                  0.0   \n",
       "1                       1.0                                  0.0   \n",
       "2                       1.0                                  0.0   \n",
       "3                       0.0                                  0.0   \n",
       "4                       0.0                                  0.0   \n",
       "\n",
       "   NAME_EDUCATION_TYPE_Higher education  ...  \\\n",
       "0                                   1.0  ...   \n",
       "1                                   1.0  ...   \n",
       "2                                   0.0  ...   \n",
       "3                                   0.0  ...   \n",
       "4                                   0.0  ...   \n",
       "\n",
       "   OCCUPATION_TYPE_unknown_occupatio  CNT_CHILDREN  AMT_INCOME_TOTAL  \\\n",
       "0                                1.0           0.0          427500.0   \n",
       "1                                1.0           0.0          427500.0   \n",
       "2                                0.0           0.0          112500.0   \n",
       "3                                0.0           0.0          270000.0   \n",
       "4                                0.0           0.0          270000.0   \n",
       "\n",
       "   DAYS_BIRTH  DAYS_EMPLOYED  FLAG_WORK_PHONE  FLAG_PHONE  FLAG_EMAIL  \\\n",
       "0    -12005.0        -4542.0              1.0         0.0         0.0   \n",
       "1    -12005.0        -4542.0              1.0         0.0         0.0   \n",
       "2    -21474.0        -1134.0              0.0         0.0         0.0   \n",
       "3    -19110.0        -3051.0              0.0         1.0         1.0   \n",
       "4    -19110.0        -3051.0              0.0         1.0         1.0   \n",
       "\n",
       "   CNT_FAM_MEMBERS  TARGET  \n",
       "0              2.0     0.0  \n",
       "1              2.0     0.0  \n",
       "2              2.0     0.0  \n",
       "3              1.0     1.0  \n",
       "4              1.0     1.0  \n",
       "\n",
       "[5 rows x 52 columns]"
      ]
     },
     "execution_count": 45,
     "metadata": {},
     "output_type": "execute_result"
    }
   ],
   "source": [
    "df_test = pd.DataFrame(df_test, columns=all_feature_names)\n",
    "df_test.head()"
   ]
  },
  {
   "cell_type": "code",
   "execution_count": 46,
   "metadata": {},
   "outputs": [
    {
     "data": {
      "text/html": [
       "<div>\n",
       "<style scoped>\n",
       "    .dataframe tbody tr th:only-of-type {\n",
       "        vertical-align: middle;\n",
       "    }\n",
       "\n",
       "    .dataframe tbody tr th {\n",
       "        vertical-align: top;\n",
       "    }\n",
       "\n",
       "    .dataframe thead th {\n",
       "        text-align: right;\n",
       "    }\n",
       "</style>\n",
       "<table border=\"1\" class=\"dataframe\">\n",
       "  <thead>\n",
       "    <tr style=\"text-align: right;\">\n",
       "      <th></th>\n",
       "      <th>CODE_GENDER</th>\n",
       "      <th>FLAG_OWN_CAR</th>\n",
       "      <th>FLAG_OWN_REALTY</th>\n",
       "      <th>CNT_CHILDREN</th>\n",
       "      <th>AMT_INCOME_TOTAL</th>\n",
       "      <th>NAME_INCOME_TYPE</th>\n",
       "      <th>NAME_EDUCATION_TYPE</th>\n",
       "      <th>NAME_FAMILY_STATUS</th>\n",
       "      <th>NAME_HOUSING_TYPE</th>\n",
       "      <th>DAYS_BIRTH</th>\n",
       "      <th>DAYS_EMPLOYED</th>\n",
       "      <th>FLAG_WORK_PHONE</th>\n",
       "      <th>FLAG_PHONE</th>\n",
       "      <th>FLAG_EMAIL</th>\n",
       "      <th>OCCUPATION_TYPE</th>\n",
       "      <th>CNT_FAM_MEMBERS</th>\n",
       "      <th>TARGET</th>\n",
       "    </tr>\n",
       "  </thead>\n",
       "  <tbody>\n",
       "    <tr>\n",
       "      <th>0</th>\n",
       "      <td>M</td>\n",
       "      <td>Y</td>\n",
       "      <td>Y</td>\n",
       "      <td>0</td>\n",
       "      <td>427500.0</td>\n",
       "      <td>Working</td>\n",
       "      <td>Higher education</td>\n",
       "      <td>Civil marriage</td>\n",
       "      <td>Rented apartment</td>\n",
       "      <td>-12005.0</td>\n",
       "      <td>-4542.0</td>\n",
       "      <td>1.0</td>\n",
       "      <td>0.0</td>\n",
       "      <td>0.0</td>\n",
       "      <td>unknown_occupatio</td>\n",
       "      <td>2.0</td>\n",
       "      <td>0</td>\n",
       "    </tr>\n",
       "    <tr>\n",
       "      <th>1</th>\n",
       "      <td>M</td>\n",
       "      <td>Y</td>\n",
       "      <td>Y</td>\n",
       "      <td>0</td>\n",
       "      <td>427500.0</td>\n",
       "      <td>Working</td>\n",
       "      <td>Higher education</td>\n",
       "      <td>Civil marriage</td>\n",
       "      <td>Rented apartment</td>\n",
       "      <td>-12005.0</td>\n",
       "      <td>-4542.0</td>\n",
       "      <td>1.0</td>\n",
       "      <td>0.0</td>\n",
       "      <td>0.0</td>\n",
       "      <td>unknown_occupatio</td>\n",
       "      <td>2.0</td>\n",
       "      <td>0</td>\n",
       "    </tr>\n",
       "    <tr>\n",
       "      <th>2</th>\n",
       "      <td>M</td>\n",
       "      <td>Y</td>\n",
       "      <td>Y</td>\n",
       "      <td>0</td>\n",
       "      <td>112500.0</td>\n",
       "      <td>Working</td>\n",
       "      <td>Secondary / secondary special</td>\n",
       "      <td>Married</td>\n",
       "      <td>House / apartment</td>\n",
       "      <td>-21474.0</td>\n",
       "      <td>-1134.0</td>\n",
       "      <td>0.0</td>\n",
       "      <td>0.0</td>\n",
       "      <td>0.0</td>\n",
       "      <td>Security staff</td>\n",
       "      <td>2.0</td>\n",
       "      <td>0</td>\n",
       "    </tr>\n",
       "    <tr>\n",
       "      <th>3</th>\n",
       "      <td>F</td>\n",
       "      <td>N</td>\n",
       "      <td>Y</td>\n",
       "      <td>0</td>\n",
       "      <td>270000.0</td>\n",
       "      <td>Commercial associate</td>\n",
       "      <td>Secondary / secondary special</td>\n",
       "      <td>Single / not married</td>\n",
       "      <td>House / apartment</td>\n",
       "      <td>-19110.0</td>\n",
       "      <td>-3051.0</td>\n",
       "      <td>0.0</td>\n",
       "      <td>1.0</td>\n",
       "      <td>1.0</td>\n",
       "      <td>Sales staff</td>\n",
       "      <td>1.0</td>\n",
       "      <td>1</td>\n",
       "    </tr>\n",
       "    <tr>\n",
       "      <th>4</th>\n",
       "      <td>F</td>\n",
       "      <td>N</td>\n",
       "      <td>Y</td>\n",
       "      <td>0</td>\n",
       "      <td>270000.0</td>\n",
       "      <td>Commercial associate</td>\n",
       "      <td>Secondary / secondary special</td>\n",
       "      <td>Single / not married</td>\n",
       "      <td>House / apartment</td>\n",
       "      <td>-19110.0</td>\n",
       "      <td>-3051.0</td>\n",
       "      <td>0.0</td>\n",
       "      <td>1.0</td>\n",
       "      <td>1.0</td>\n",
       "      <td>Sales staff</td>\n",
       "      <td>1.0</td>\n",
       "      <td>1</td>\n",
       "    </tr>\n",
       "  </tbody>\n",
       "</table>\n",
       "</div>"
      ],
      "text/plain": [
       "  CODE_GENDER FLAG_OWN_CAR FLAG_OWN_REALTY  CNT_CHILDREN  AMT_INCOME_TOTAL  \\\n",
       "0           M            Y               Y             0          427500.0   \n",
       "1           M            Y               Y             0          427500.0   \n",
       "2           M            Y               Y             0          112500.0   \n",
       "3           F            N               Y             0          270000.0   \n",
       "4           F            N               Y             0          270000.0   \n",
       "\n",
       "       NAME_INCOME_TYPE            NAME_EDUCATION_TYPE    NAME_FAMILY_STATUS  \\\n",
       "0               Working               Higher education        Civil marriage   \n",
       "1               Working               Higher education        Civil marriage   \n",
       "2               Working  Secondary / secondary special               Married   \n",
       "3  Commercial associate  Secondary / secondary special  Single / not married   \n",
       "4  Commercial associate  Secondary / secondary special  Single / not married   \n",
       "\n",
       "   NAME_HOUSING_TYPE  DAYS_BIRTH  DAYS_EMPLOYED  FLAG_WORK_PHONE  FLAG_PHONE  \\\n",
       "0   Rented apartment    -12005.0        -4542.0              1.0         0.0   \n",
       "1   Rented apartment    -12005.0        -4542.0              1.0         0.0   \n",
       "2  House / apartment    -21474.0        -1134.0              0.0         0.0   \n",
       "3  House / apartment    -19110.0        -3051.0              0.0         1.0   \n",
       "4  House / apartment    -19110.0        -3051.0              0.0         1.0   \n",
       "\n",
       "   FLAG_EMAIL    OCCUPATION_TYPE  CNT_FAM_MEMBERS  TARGET  \n",
       "0         0.0  unknown_occupatio              2.0       0  \n",
       "1         0.0  unknown_occupatio              2.0       0  \n",
       "2         0.0     Security staff              2.0       0  \n",
       "3         1.0        Sales staff              1.0       1  \n",
       "4         1.0        Sales staff              1.0       1  "
      ]
     },
     "execution_count": 46,
     "metadata": {},
     "output_type": "execute_result"
    }
   ],
   "source": [
    "df.head()"
   ]
  },
  {
   "cell_type": "markdown",
   "metadata": {},
   "source": [
    "Ultimo check sul dato"
   ]
  },
  {
   "cell_type": "code",
   "execution_count": 47,
   "metadata": {},
   "outputs": [
    {
     "data": {
      "text/plain": [
       "<bound method Series.unique of CNT_CHILDREN        True\n",
       "AMT_INCOME_TOTAL    True\n",
       "DAYS_BIRTH          True\n",
       "DAYS_EMPLOYED       True\n",
       "FLAG_WORK_PHONE     True\n",
       "FLAG_PHONE          True\n",
       "FLAG_EMAIL          True\n",
       "CNT_FAM_MEMBERS     True\n",
       "TARGET              True\n",
       "dtype: bool>"
      ]
     },
     "execution_count": 47,
     "metadata": {},
     "output_type": "execute_result"
    }
   ],
   "source": [
    "#df[remaining_columns].equals(df_test[remaining_columns])\n",
    "\n",
    "(df[remaining_columns]==df_test[remaining_columns]).all().unique\n",
    "\n"
   ]
  },
  {
   "cell_type": "markdown",
   "metadata": {},
   "source": [
    "TUTTI I CHECK SON STATI PASSATI"
   ]
  },
  {
   "cell_type": "code",
   "execution_count": 48,
   "metadata": {},
   "outputs": [],
   "source": [
    "df_proc = df_test.copy()"
   ]
  },
  {
   "cell_type": "markdown",
   "metadata": {},
   "source": [
    "Analizziamo la variabile TARGET (sbilanciata, richiede accortezze nella costruzione del modello)"
   ]
  },
  {
   "cell_type": "code",
   "execution_count": 49,
   "metadata": {},
   "outputs": [
    {
     "name": "stdout",
     "output_type": "stream",
     "text": [
      "Response ha 308704 valori pari a 0\n",
      "Response ha 29722 valori pari a 1\n",
      "La % di utenti che accetta il cross-selling è 8.78 %\n"
     ]
    }
   ],
   "source": [
    "target_ones = np.count_nonzero(df_proc[\"TARGET\"])\n",
    "target_zeros = df_proc.shape[0] - target_ones\n",
    "mean = (target_ones/df_proc.shape[0])*100\n",
    "\n",
    "print(f\"Response ha {target_zeros} valori pari a 0\")\n",
    "print(f\"Response ha {target_ones} valori pari a 1\")\n",
    "print(f\"La % di utenti che accetta il cross-selling è {mean:.2f} %\")"
   ]
  },
  {
   "cell_type": "markdown",
   "metadata": {},
   "source": [
    "Check sulle correlazioni"
   ]
  },
  {
   "cell_type": "code",
   "execution_count": 50,
   "metadata": {},
   "outputs": [],
   "source": [
    "# plt.figure(figsize=(14, 10), dpi=100)\n",
    "\n",
    "# hm = sns.heatmap(df_proc.corr(),\n",
    "#                  cbar=True,\n",
    "#                  square=True,\n",
    "#                  yticklabels=df_proc.columns,\n",
    "#                  xticklabels=df_proc.columns,\n",
    "#                  annot=True,                  #Questo ci mostra i valori degli indici\n",
    "#                  annot_kws={'size':12})       #Impostiamo la dimensione dell'annotazione a 12 per farla entrare dentro il quadrato\n",
    "\n",
    "# plt.show()"
   ]
  },
  {
   "cell_type": "code",
   "execution_count": 51,
   "metadata": {},
   "outputs": [
    {
     "name": "stdout",
     "output_type": "stream",
     "text": [
      "Le prime 10 correlazioni a valore neg:\n",
      "[[-0.8993184 ]\n",
      " [-0.6357651 ]\n",
      " [-0.62106173]\n",
      " [-0.61675781]\n",
      " [-0.56462172]\n",
      " [-0.55766259]\n",
      " [-0.54363175]\n",
      " [-0.46807199]\n",
      " [-0.46790192]\n",
      " [-0.44631608]]\n",
      "Le prime 10 correlazioni a valore pos:\n",
      "[[-0.42684888]\n",
      " [-0.42673847]\n",
      " [-0.37660819]\n",
      " ...\n",
      " [ 0.88655892]\n",
      " [ 0.99987439]\n",
      " [ 1.        ]]\n"
     ]
    }
   ],
   "source": [
    "corr_matrix = df_proc.corr()\n",
    "correlation = np.array(corr_matrix)\n",
    "corr_array = correlation.reshape((corr_matrix.shape[0]*corr_matrix.shape[1],1))\n",
    "corr_array_sorted = np.sort(corr_array,axis=0)\n",
    "corr_array_sorted = np.unique(corr_array,axis=0)\n",
    "# corr_array_sorted[-17,0]\n",
    "print(\"Le prime 10 correlazioni a valore neg:\")\n",
    "print(corr_array_sorted[:10])\n",
    "print(\"Le prime 10 correlazioni a valore pos:\")\n",
    "print(corr_array_sorted[10:])"
   ]
  },
  {
   "cell_type": "code",
   "execution_count": 52,
   "metadata": {},
   "outputs": [],
   "source": [
    "def find_high_corr(corr_matrix, threshold):\n",
    "    high_corr = []\n",
    "\n",
    "    for i in range(corr_matrix.shape[0]):\n",
    "        for j in range(i+1, corr_matrix.shape[1]):\n",
    "            if abs(corr_matrix.iloc[i,j]) > threshold:\n",
    "                high_corr.append([corr_matrix.index[i], corr_matrix.columns[j], corr_matrix.iloc[i,j]])\n",
    "        \n",
    "    return high_corr"
   ]
  },
  {
   "cell_type": "code",
   "execution_count": 53,
   "metadata": {},
   "outputs": [
    {
     "name": "stdout",
     "output_type": "stream",
     "text": [
      "['NAME_INCOME_TYPE_Pensioner', 'DAYS_EMPLOYED', 0.9998743927799938]\n",
      "['NAME_EDUCATION_TYPE_Higher education', 'NAME_EDUCATION_TYPE_Secondary / secondary special', -0.8993184049507512]\n",
      "['CNT_CHILDREN', 'CNT_FAM_MEMBERS', 0.8865589172075321]\n"
     ]
    }
   ],
   "source": [
    "high_corr = find_high_corr(corr_matrix, 0.7)\n",
    "\n",
    "for i in high_corr:\n",
    "    print(i)"
   ]
  },
  {
   "cell_type": "markdown",
   "metadata": {},
   "source": [
    "Qualche considerazione:\n",
    "- il numero di giorni trascorsi dall'assunzione e la pensione come fonte di reddito sono estremamente correlate\n",
    "- all'interno di livello di educazione c'è un trade off tra high education e secondary education\n",
    "- il numero di figli è legato al numero di familiari\n",
    "\n",
    "Tutto torna"
   ]
  },
  {
   "cell_type": "code",
   "execution_count": 54,
   "metadata": {},
   "outputs": [
    {
     "data": {
      "text/plain": [
       "TARGET                                   1.000000\n",
       "AMT_INCOME_TOTAL                         0.224394\n",
       "OCCUPATION_TYPE_Managers                 0.095132\n",
       "NAME_INCOME_TYPE_Commercial associate    0.063281\n",
       "NAME_INCOME_TYPE_State servant           0.048683\n",
       "Name: TARGET, dtype: float64"
      ]
     },
     "execution_count": 54,
     "metadata": {},
     "output_type": "execute_result"
    }
   ],
   "source": [
    "corr_matrix[\"TARGET\"].sort_values(ascending=False)[:5]"
   ]
  },
  {
   "cell_type": "markdown",
   "metadata": {},
   "source": [
    "La variabile target sembra avere una bassa correlazione con le altre feature prese singolarmente. Proviamo a visualizzare un po' i dati con l'obiettivo di estrarre qualche informazione sulle distribuzioni che stiamo trattando"
   ]
  },
  {
   "cell_type": "code",
   "execution_count": 55,
   "metadata": {},
   "outputs": [
    {
     "name": "stdout",
     "output_type": "stream",
     "text": [
      "['CNT_CHILDREN', 'AMT_INCOME_TOTAL', 'DAYS_BIRTH', 'DAYS_EMPLOYED', 'FLAG_WORK_PHONE', 'FLAG_PHONE', 'FLAG_EMAIL', 'CNT_FAM_MEMBERS', 'TARGET']\n",
      "['CODE_GENDER', 'FLAG_OWN_CAR', 'FLAG_OWN_REALTY', 'NAME_INCOME_TYPE', 'NAME_EDUCATION_TYPE', 'NAME_FAMILY_STATUS', 'NAME_HOUSING_TYPE', 'OCCUPATION_TYPE']\n"
     ]
    }
   ],
   "source": [
    "print(numerical_features)\n",
    "print(cat_features)"
   ]
  },
  {
   "cell_type": "code",
   "execution_count": 56,
   "metadata": {},
   "outputs": [
    {
     "name": "stdout",
     "output_type": "stream",
     "text": [
      "check su n° variabili da plottare: 16\n",
      "vs feature del df originale: 16 (escluso il target)\n"
     ]
    }
   ],
   "source": [
    "discrete_features = ['AMT_INCOME_TOTAL', 'DAYS_BIRTH', 'DAYS_EMPLOYED','CNT_CHILDREN', 'CNT_FAM_MEMBERS']\n",
    "categorical_features = ['NAME_INCOME_TYPE', 'NAME_EDUCATION_TYPE', 'NAME_FAMILY_STATUS', 'NAME_HOUSING_TYPE', 'OCCUPATION_TYPE']\n",
    "flag_features = ['FLAG_WORK_PHONE', 'FLAG_PHONE', 'FLAG_EMAIL', 'FLAG_OWN_CAR', 'FLAG_OWN_REALTY', 'CODE_GENDER']\n",
    "print(\"check su n° variabili da plottare:\", len(discrete_features)+ len(categorical_features)+len(flag_features))\n",
    "print(\"vs feature del df originale:\", len(df.columns)-1, \"(escluso il target)\") #escludiamo il target"
   ]
  },
  {
   "cell_type": "markdown",
   "metadata": {},
   "source": [
    "Occhio che in questa fase lavoreremo anche con il df senza encoding"
   ]
  },
  {
   "cell_type": "markdown",
   "metadata": {},
   "source": [
    "Visualizzazione delle distribuzioni delle variabili \"discrete\""
   ]
  },
  {
   "cell_type": "code",
   "execution_count": 57,
   "metadata": {},
   "outputs": [
    {
     "data": {
      "text/plain": [
       "<AxesSubplot:xlabel='TARGET', ylabel='CNT_FAM_MEMBERS'>"
      ]
     },
     "execution_count": 57,
     "metadata": {},
     "output_type": "execute_result"
    },
    {
     "data": {
      "image/png": "[encoded data removed]",
      "text/plain": [
       "<Figure size 1500x1000 with 5 Axes>"
      ]
     },
     "metadata": {
      "needs_background": "light"
     },
     "output_type": "display_data"
    }
   ],
   "source": [
    "plt.figure(figsize=(15, 10), dpi=100)\n",
    "\n",
    "plt.subplot(2, 3, 1)\n",
    "sns.boxplot(x=\"TARGET\", y=discrete_features[0], data=df_proc, palette=\"viridis\", hue=\"TARGET\", legend=False)\n",
    "plt.subplot(2, 3, 2)\n",
    "sns.boxplot(x=\"TARGET\", y=discrete_features[1], data=df_proc, palette=\"viridis\", hue=\"TARGET\", legend=False)\n",
    "plt.subplot(2, 3, 3)\n",
    "sns.boxplot(x=\"TARGET\", y=discrete_features[2], data=df_proc, palette=\"viridis\", hue=\"TARGET\", legend=False)\n",
    "plt.subplot(2, 3, 4)\n",
    "sns.boxplot(x=\"TARGET\", y=discrete_features[3], data=df_proc, palette=\"viridis\", hue=\"TARGET\", legend=False)\n",
    "plt.subplot(2, 3, 5)\n",
    "sns.boxplot(x=\"TARGET\", y=discrete_features[4], data=df_proc, palette=\"viridis\", hue=\"TARGET\", legend=False)\n"
   ]
  },
  {
   "cell_type": "code",
   "execution_count": 58,
   "metadata": {},
   "outputs": [
    {
     "data": {
      "image/png": "[encoded data removed]",
      "text/plain": [
       "<Figure size 1500x1000 with 5 Axes>"
      ]
     },
     "metadata": {
      "needs_background": "light"
     },
     "output_type": "display_data"
    }
   ],
   "source": [
    "plt.figure(figsize=(15, 10), dpi=100)\n",
    "\n",
    "plt.subplot(2, 3, 1)\n",
    "sns.histplot(df[df['TARGET'] == 0][discrete_features[0]], color='blue', label='Response = 0', kde=False, bins=50)\n",
    "sns.histplot(df[df['TARGET'] == 1][discrete_features[0]], color='red', label='Response = 1', kde=False, bins=50)\n",
    "plt.xlabel(discrete_features[0])\n",
    "plt.xlim(0, 1000000)\n",
    "plt.ylabel('Frequency')\n",
    "plt.legend()\n",
    "plt.grid(True)\n",
    "plt.subplot(2, 3, 2)\n",
    "sns.histplot(df[df['TARGET'] == 0][discrete_features[1]], color='blue', label='Response = 0', kde=False, bins=20)\n",
    "sns.histplot(df[df['TARGET'] == 1][discrete_features[1]], color='red', label='Response = 1', kde=False, bins=20)\n",
    "plt.xlabel(discrete_features[1])\n",
    "plt.ylabel('Frequency')\n",
    "plt.legend()\n",
    "plt.grid(True)\n",
    "plt.subplot(2, 3, 3)\n",
    "sns.histplot(df[df['TARGET'] == 0][discrete_features[2]], color='blue', label='Response = 0', kde=False, bins=50)\n",
    "sns.histplot(df[df['TARGET'] == 1][discrete_features[2]], color='red', label='Response = 1', kde=False, bins=50)\n",
    "plt.xlabel(discrete_features[2])\n",
    "#plt.xlim(0, 10000)\n",
    "plt.ylabel('Frequency')\n",
    "plt.legend()\n",
    "plt.grid(True)\n",
    "plt.subplot(2, 3, 4)\n",
    "sns.histplot(df[df['TARGET'] == 0][discrete_features[3]], color='blue', label='Response = 0', kde=False, bins=20)\n",
    "sns.histplot(df[df['TARGET'] == 1][discrete_features[3]], color='red', label='Response = 1', kde=False, bins=20)\n",
    "plt.xlabel(discrete_features[3])\n",
    "plt.ylabel('Frequency')\n",
    "plt.legend()\n",
    "plt.grid(True)\n",
    "plt.subplot(2, 3, 5)\n",
    "sns.histplot(df[df['TARGET'] == 0][discrete_features[4]], color='blue', label='Response = 0', kde=False, bins=20)\n",
    "sns.histplot(df[df['TARGET'] == 1][discrete_features[4]], color='red', label='Response = 1', kde=False, bins=20)\n",
    "plt.xlabel(discrete_features[4])\n",
    "plt.ylabel('Frequency')\n",
    "plt.legend()\n",
    "plt.grid(True)\n"
   ]
  },
  {
   "cell_type": "markdown",
   "metadata": {},
   "source": [
    "Sembra esserci un outlier per quanto riguarda DAYS_EMPLOYED. Dalle indagini pare che tutti i \"disoccupati\" siano stati contrassegnati con il valore di 365243 gg"
   ]
  },
  {
   "cell_type": "code",
   "execution_count": 59,
   "metadata": {},
   "outputs": [
    {
     "name": "stdout",
     "output_type": "stream",
     "text": [
      "57841\n"
     ]
    },
    {
     "data": {
      "text/html": [
       "<div>\n",
       "<style scoped>\n",
       "    .dataframe tbody tr th:only-of-type {\n",
       "        vertical-align: middle;\n",
       "    }\n",
       "\n",
       "    .dataframe tbody tr th {\n",
       "        vertical-align: top;\n",
       "    }\n",
       "\n",
       "    .dataframe thead th {\n",
       "        text-align: right;\n",
       "    }\n",
       "</style>\n",
       "<table border=\"1\" class=\"dataframe\">\n",
       "  <thead>\n",
       "    <tr style=\"text-align: right;\">\n",
       "      <th></th>\n",
       "      <th>CNT_CHILDREN</th>\n",
       "      <th>AMT_INCOME_TOTAL</th>\n",
       "      <th>DAYS_BIRTH</th>\n",
       "      <th>DAYS_EMPLOYED</th>\n",
       "      <th>FLAG_WORK_PHONE</th>\n",
       "      <th>FLAG_PHONE</th>\n",
       "      <th>FLAG_EMAIL</th>\n",
       "      <th>CNT_FAM_MEMBERS</th>\n",
       "      <th>TARGET</th>\n",
       "    </tr>\n",
       "  </thead>\n",
       "  <tbody>\n",
       "    <tr>\n",
       "      <th>count</th>\n",
       "      <td>57841.000000</td>\n",
       "      <td>5.784100e+04</td>\n",
       "      <td>57841.000000</td>\n",
       "      <td>57841.0</td>\n",
       "      <td>57841.0</td>\n",
       "      <td>57841.000000</td>\n",
       "      <td>57841.000000</td>\n",
       "      <td>57841.000000</td>\n",
       "      <td>57841.0</td>\n",
       "    </tr>\n",
       "    <tr>\n",
       "      <th>mean</th>\n",
       "      <td>0.039159</td>\n",
       "      <td>1.529742e+05</td>\n",
       "      <td>-21716.322436</td>\n",
       "      <td>365243.0</td>\n",
       "      <td>0.0</td>\n",
       "      <td>0.300064</td>\n",
       "      <td>0.053509</td>\n",
       "      <td>1.730191</td>\n",
       "      <td>0.0</td>\n",
       "    </tr>\n",
       "    <tr>\n",
       "      <th>std</th>\n",
       "      <td>0.250045</td>\n",
       "      <td>7.801609e+04</td>\n",
       "      <td>1852.232388</td>\n",
       "      <td>0.0</td>\n",
       "      <td>0.0</td>\n",
       "      <td>0.458289</td>\n",
       "      <td>0.225048</td>\n",
       "      <td>0.532670</td>\n",
       "      <td>0.0</td>\n",
       "    </tr>\n",
       "    <tr>\n",
       "      <th>min</th>\n",
       "      <td>0.000000</td>\n",
       "      <td>2.610000e+04</td>\n",
       "      <td>-25201.000000</td>\n",
       "      <td>365243.0</td>\n",
       "      <td>0.0</td>\n",
       "      <td>0.000000</td>\n",
       "      <td>0.000000</td>\n",
       "      <td>1.000000</td>\n",
       "      <td>0.0</td>\n",
       "    </tr>\n",
       "    <tr>\n",
       "      <th>25%</th>\n",
       "      <td>0.000000</td>\n",
       "      <td>9.900000e+04</td>\n",
       "      <td>-22989.000000</td>\n",
       "      <td>365243.0</td>\n",
       "      <td>0.0</td>\n",
       "      <td>0.000000</td>\n",
       "      <td>0.000000</td>\n",
       "      <td>1.000000</td>\n",
       "      <td>0.0</td>\n",
       "    </tr>\n",
       "    <tr>\n",
       "      <th>50%</th>\n",
       "      <td>0.000000</td>\n",
       "      <td>1.350000e+05</td>\n",
       "      <td>-21916.000000</td>\n",
       "      <td>365243.0</td>\n",
       "      <td>0.0</td>\n",
       "      <td>0.000000</td>\n",
       "      <td>0.000000</td>\n",
       "      <td>2.000000</td>\n",
       "      <td>0.0</td>\n",
       "    </tr>\n",
       "    <tr>\n",
       "      <th>75%</th>\n",
       "      <td>0.000000</td>\n",
       "      <td>1.800000e+05</td>\n",
       "      <td>-20795.000000</td>\n",
       "      <td>365243.0</td>\n",
       "      <td>0.0</td>\n",
       "      <td>1.000000</td>\n",
       "      <td>0.000000</td>\n",
       "      <td>2.000000</td>\n",
       "      <td>0.0</td>\n",
       "    </tr>\n",
       "    <tr>\n",
       "      <th>max</th>\n",
       "      <td>4.000000</td>\n",
       "      <td>1.260000e+06</td>\n",
       "      <td>-8145.000000</td>\n",
       "      <td>365243.0</td>\n",
       "      <td>0.0</td>\n",
       "      <td>1.000000</td>\n",
       "      <td>1.000000</td>\n",
       "      <td>6.000000</td>\n",
       "      <td>0.0</td>\n",
       "    </tr>\n",
       "  </tbody>\n",
       "</table>\n",
       "</div>"
      ],
      "text/plain": [
       "       CNT_CHILDREN  AMT_INCOME_TOTAL    DAYS_BIRTH  DAYS_EMPLOYED  \\\n",
       "count  57841.000000      5.784100e+04  57841.000000        57841.0   \n",
       "mean       0.039159      1.529742e+05 -21716.322436       365243.0   \n",
       "std        0.250045      7.801609e+04   1852.232388            0.0   \n",
       "min        0.000000      2.610000e+04 -25201.000000       365243.0   \n",
       "25%        0.000000      9.900000e+04 -22989.000000       365243.0   \n",
       "50%        0.000000      1.350000e+05 -21916.000000       365243.0   \n",
       "75%        0.000000      1.800000e+05 -20795.000000       365243.0   \n",
       "max        4.000000      1.260000e+06  -8145.000000       365243.0   \n",
       "\n",
       "       FLAG_WORK_PHONE    FLAG_PHONE    FLAG_EMAIL  CNT_FAM_MEMBERS   TARGET  \n",
       "count          57841.0  57841.000000  57841.000000     57841.000000  57841.0  \n",
       "mean               0.0      0.300064      0.053509         1.730191      0.0  \n",
       "std                0.0      0.458289      0.225048         0.532670      0.0  \n",
       "min                0.0      0.000000      0.000000         1.000000      0.0  \n",
       "25%                0.0      0.000000      0.000000         1.000000      0.0  \n",
       "50%                0.0      0.000000      0.000000         2.000000      0.0  \n",
       "75%                0.0      1.000000      0.000000         2.000000      0.0  \n",
       "max                0.0      1.000000      1.000000         6.000000      0.0  "
      ]
     },
     "execution_count": 59,
     "metadata": {},
     "output_type": "execute_result"
    }
   ],
   "source": [
    "print((df[discrete_features[2]]>300000).sum())\n",
    "df[df[discrete_features[2]]>0].describe()"
   ]
  },
  {
   "cell_type": "code",
   "execution_count": 60,
   "metadata": {},
   "outputs": [
    {
     "name": "stdout",
     "output_type": "stream",
     "text": [
      "Il numero di anni corrispondenti è 1000.6657534246575\n"
     ]
    }
   ],
   "source": [
    "print(\"Il numero di anni corrispondenti è\",df[discrete_features[2]].max()/365)"
   ]
  },
  {
   "cell_type": "markdown",
   "metadata": {},
   "source": [
    "NB. è chiaramente un errore da gestire. Dal momento che il valore \"se positivo, indica il numero di giorni da quando è disoccupato\" lo andremo a sostituire con il valore assoluto del valore medio del gruppo degli impiegati. E' una grossa assunzione che protrebbe impattare sul risultato. Da testarne l'effetto."
   ]
  },
  {
   "cell_type": "code",
   "execution_count": 61,
   "metadata": {},
   "outputs": [
    {
     "name": "stdout",
     "output_type": "stream",
     "text": [
      "Il valore medio di giorni di disoccupazione è 2636.444293173192 ossia 7.223135049789567 anni\n"
     ]
    }
   ],
   "source": [
    "unemployed_mean_value = abs(df[df[discrete_features[2]]<0][discrete_features[2]].mean())\n",
    "print(\"Il valore medio di giorni di disoccupazione è\", unemployed_mean_value, \"ossia\", unemployed_mean_value/365, \"anni\")  "
   ]
  },
  {
   "cell_type": "code",
   "execution_count": 62,
   "metadata": {},
   "outputs": [],
   "source": [
    "df_proc_modified = df_proc.copy()\n",
    "df_proc_modified[discrete_features[2]] = df_proc_modified[discrete_features[2]].apply(lambda x: unemployed_mean_value if x > 0 else x)"
   ]
  },
  {
   "cell_type": "markdown",
   "metadata": {},
   "source": [
    "Passiamo alle variabili categoriche"
   ]
  },
  {
   "cell_type": "code",
   "execution_count": 63,
   "metadata": {},
   "outputs": [
    {
     "data": {
      "image/png": "[encoded data removed]",
      "text/plain": [
       "<Figure size 1500x1000 with 5 Axes>"
      ]
     },
     "metadata": {
      "needs_background": "light"
     },
     "output_type": "display_data"
    }
   ],
   "source": [
    "plt.figure(figsize=(15, 10), dpi=100)\n",
    "\n",
    "plt.subplot(2, 3, 1)\n",
    "sns.histplot(df[df['TARGET'] == 0][categorical_features[0]], color='blue', label='Response = 0', kde=False, bins=20)\n",
    "sns.histplot(df[df['TARGET'] == 1][categorical_features[0]], color='red', label='Response = 1', kde=False, bins=20)\n",
    "plt.xlabel(categorical_features[0])\n",
    "plt.ylabel('Frequency')\n",
    "plt.legend()\n",
    "plt.grid(True)\n",
    "plt.subplot(2, 3, 2)\n",
    "sns.histplot(df[df['TARGET'] == 0][categorical_features[1]], color='blue', label='Response = 0', kde=False, bins=20)\n",
    "sns.histplot(df[df['TARGET'] == 1][categorical_features[1]], color='red', label='Response = 1', kde=False, bins=20)\n",
    "plt.xlabel(categorical_features[1])\n",
    "plt.ylabel('Frequency')\n",
    "plt.legend()\n",
    "plt.grid(True)\n",
    "plt.subplot(2, 3, 3)\n",
    "sns.histplot(df[df['TARGET'] == 0][categorical_features[2]], color='blue', label='Response = 0', kde=False, bins=20)\n",
    "sns.histplot(df[df['TARGET'] == 1][categorical_features[2]], color='red', label='Response = 1', kde=False, bins=20)\n",
    "plt.xlabel(categorical_features[2])\n",
    "plt.ylabel('Frequency')\n",
    "plt.legend()\n",
    "plt.grid(True)\n",
    "plt.subplot(2, 3, 4)\n",
    "sns.histplot(df[df['TARGET'] == 0][categorical_features[3]], color='blue', label='Response = 0', kde=False, bins=20)\n",
    "sns.histplot(df[df['TARGET'] == 1][categorical_features[3]], color='red', label='Response = 1', kde=False, bins=20)\n",
    "plt.xlabel(categorical_features[3])\n",
    "plt.ylabel('Frequency')\n",
    "plt.legend()\n",
    "plt.grid(True)\n",
    "plt.subplot(2, 3, 5)\n",
    "sns.histplot(df[df['TARGET'] == 0][categorical_features[4]], color='blue', label='Response = 0', kde=False, bins=20)\n",
    "sns.histplot(df[df['TARGET'] == 1][categorical_features[4]], color='red', label='Response = 1', kde=False, bins=20)\n",
    "plt.xlabel(categorical_features[4])\n",
    "plt.ylabel('Frequency')\n",
    "plt.legend()\n",
    "plt.grid(True)\n"
   ]
  },
  {
   "cell_type": "markdown",
   "metadata": {},
   "source": [
    "Per queste feature, sembra che non ci siano azioni da implementare"
   ]
  },
  {
   "cell_type": "markdown",
   "metadata": {},
   "source": [
    "Per le variabili \"flag\" non è necessario visualizzare la distribuzione. Bastano i conteggi che abbiamo visto in precedenza. Potremmo plottare la combinazione di feature a maggiore correlazione per completare la parte di visualizzazione.\n",
    "\n",
    "- ['NAME_INCOME_TYPE_Pensioner', 'DAYS_EMPLOYED']\n",
    "- ['NAME_EDUCATION_TYPE_Higher education', 'NAME_EDUCATION_TYPE_Secondary / secondary special']\n",
    "- ['CNT_CHILDREN', 'CNT_FAM_MEMBERS']"
   ]
  },
  {
   "cell_type": "code",
   "execution_count": 64,
   "metadata": {},
   "outputs": [],
   "source": [
    "def plot_pairwise_scatter_with_hue(df, vars_to_plot=None, hue='TARGET'):\n",
    "    plt.figure(figsize=(10, 10), dpi=100)\n",
    "\n",
    "    if vars_to_plot is not None:\n",
    "        df = df[vars_to_plot + [hue]]\n",
    "    \n",
    "    sns.pairplot(df, hue=hue)\n",
    "    plt.suptitle('Pairwise Scatter Plots with Hue', y=1.02)\n",
    "    plt.show()"
   ]
  },
  {
   "cell_type": "code",
   "execution_count": 65,
   "metadata": {},
   "outputs": [
    {
     "data": {
      "text/plain": [
       "<Figure size 1000x1000 with 0 Axes>"
      ]
     },
     "metadata": {},
     "output_type": "display_data"
    },
    {
     "data": {
      "image/png": "[encoded data removed]",
      "text/plain": [
       "<Figure size 411.875x360 with 6 Axes>"
      ]
     },
     "metadata": {
      "needs_background": "light"
     },
     "output_type": "display_data"
    }
   ],
   "source": [
    "plot_pairwise_scatter_with_hue(df_proc_modified, vars_to_plot=['NAME_INCOME_TYPE_Pensioner', 'DAYS_EMPLOYED'])"
   ]
  },
  {
   "cell_type": "code",
   "execution_count": 66,
   "metadata": {},
   "outputs": [
    {
     "data": {
      "text/plain": [
       "<Figure size 1000x1000 with 0 Axes>"
      ]
     },
     "metadata": {},
     "output_type": "display_data"
    },
    {
     "data": {
      "image/png": "[encoded data removed]",
      "text/plain": [
       "<Figure size 411.875x360 with 6 Axes>"
      ]
     },
     "metadata": {
      "needs_background": "light"
     },
     "output_type": "display_data"
    }
   ],
   "source": [
    "plot_pairwise_scatter_with_hue(df_proc, vars_to_plot=['NAME_EDUCATION_TYPE_Higher education', 'NAME_EDUCATION_TYPE_Secondary / secondary special'])"
   ]
  },
  {
   "cell_type": "code",
   "execution_count": 67,
   "metadata": {},
   "outputs": [
    {
     "data": {
      "text/plain": [
       "<Figure size 1000x1000 with 0 Axes>"
      ]
     },
     "metadata": {},
     "output_type": "display_data"
    },
    {
     "data": {
      "image/png": "[encoded data removed]",
      "text/plain": [
       "<Figure size 411.875x360 with 6 Axes>"
      ]
     },
     "metadata": {
      "needs_background": "light"
     },
     "output_type": "display_data"
    }
   ],
   "source": [
    "plot_pairwise_scatter_with_hue(df_proc, vars_to_plot=['CNT_CHILDREN', 'CNT_FAM_MEMBERS'])"
   ]
  },
  {
   "cell_type": "markdown",
   "metadata": {},
   "source": [
    "## Classification Modeling"
   ]
  },
  {
   "cell_type": "code",
   "execution_count": 69,
   "metadata": {},
   "outputs": [
    {
     "name": "stdout",
     "output_type": "stream",
     "text": [
      "(338426, 17)\n",
      "(338426, 52)\n",
      "(338426, 52)\n"
     ]
    }
   ],
   "source": [
    "print(df.shape)\n",
    "print(df_proc.shape)\n",
    "print(df_proc_modified.shape)"
   ]
  },
  {
   "cell_type": "markdown",
   "metadata": {},
   "source": [
    "Ci serve un classificatore in grado di fornire anche una spiegazioni. \n",
    "\n",
    "Ragioniamo sulle possibili optioni:\n",
    "- Regressione Logistica -> LogisticRegression\n",
    "- Regressione Logistica con GD -> SGDClassifier\n",
    "- Naive Bayes -> BernoulliNB, MultinomialNB, ComplementNB, GaussianNB\n",
    "- Maximal Margin Classifier -> SVC, LinearSVC\n",
    "- Support Vector Machine -> SVC (poly, sigmoid, rbf)\n",
    "- Multilayer Perceptron -> MLPClassifier\n",
    "- Nearest Neighbord -> KNeighborsClassifier, RadiusNeighborsClassifier\n",
    "- Alberi Decisionali -> DecisionTreeClassifier,RandomForestClassifier\n",
    "\n",
    "Vista la richiesta di implementare una classificazione spiegabile, opteremo per la famiglia degli **alberi decisionali**.\n",
    "\n",
    "Non dimenticare il problema dello sbilanciamento delle classi: \n",
    "- stratified in train-test-split\n",
    "- class_weight"
   ]
  },
  {
   "cell_type": "code",
   "execution_count": 105,
   "metadata": {},
   "outputs": [],
   "source": [
    "from sklearn.model_selection import train_test_split\n",
    "from sklearn.tree import DecisionTreeClassifier\n",
    "from sklearn.ensemble import RandomForestClassifier\n",
    "from sklearn.metrics import classification_report, confusion_matrix\n",
    "\n",
    "from sklearn.tree import export_graphviz,export_text\n",
    "from IPython.display import Image, display\n",
    "import graphviz\n",
    "\n",
    "RANDOM_SEED = 1234"
   ]
  },
  {
   "cell_type": "markdown",
   "metadata": {},
   "source": [
    "Definiamo le funzioni che ci servono per la valutazione del classificatore e la visualizzazione degli alberi"
   ]
  },
  {
   "cell_type": "code",
   "execution_count": 94,
   "metadata": {},
   "outputs": [],
   "source": [
    "def classifier_report(model, data):\n",
    "  X, y = data\n",
    "  y_pred = model.predict(X)\n",
    "  report = classification_report(y, y_pred)\n",
    "  print(report)\n",
    "  print(confusion_matrix(y, y_pred))\n",
    "\n",
    "def tree_viz(tree, feature_names=None, class_names=None):\n",
    "  dot_data = export_graphviz(tree, out_file=None,\n",
    "                        feature_names=feature_names,\n",
    "                        class_names=class_names,\n",
    "                        filled=True, rounded=True,\n",
    "                        special_characters=True)\n",
    "  graph = graphviz.Source(dot_data, filename=\"tree\", format=\"png\")\n",
    "  graph.view()\n",
    "  display(Image(\"tree.png\"))"
   ]
  },
  {
   "cell_type": "markdown",
   "metadata": {},
   "source": [
    "Preparazione dei dati"
   ]
  },
  {
   "cell_type": "code",
   "execution_count": 95,
   "metadata": {},
   "outputs": [
    {
     "name": "stdout",
     "output_type": "stream",
     "text": [
      "(270740, 51) (67686, 51)\n",
      "(270740,) (67686,)\n"
     ]
    }
   ],
   "source": [
    "X = df_proc.drop(columns=\"TARGET\")\n",
    "y = df_proc[\"TARGET\"]\n",
    "\n",
    "X_train, X_test, y_train, y_test = train_test_split(X, y, test_size=0.2, random_state=RANDOM_SEED, stratify=y)\n",
    "print(X_train.shape, X_test.shape)  \n",
    "print(y_train.shape, y_test.shape)\n"
   ]
  },
  {
   "cell_type": "markdown",
   "metadata": {},
   "source": [
    "##### DecisionTree"
   ]
  },
  {
   "cell_type": "markdown",
   "metadata": {},
   "source": [
    "Addestriamo l'albero"
   ]
  },
  {
   "cell_type": "code",
   "execution_count": 106,
   "metadata": {},
   "outputs": [
    {
     "data": {
      "text/plain": [
       "0.9493248234494578"
      ]
     },
     "execution_count": 106,
     "metadata": {},
     "output_type": "execute_result"
    }
   ],
   "source": [
    "tree = DecisionTreeClassifier(random_state=RANDOM_SEED)\n",
    "tree.fit(X_train, y_train)\n",
    "tree.score(X_test, y_test)"
   ]
  },
  {
   "cell_type": "code",
   "execution_count": 107,
   "metadata": {},
   "outputs": [
    {
     "name": "stdout",
     "output_type": "stream",
     "text": [
      "              precision    recall  f1-score   support\n",
      "\n",
      "         0.0       0.99      0.98      0.98    246962\n",
      "         1.0       0.78      0.88      0.83     23778\n",
      "\n",
      "    accuracy                           0.97    270740\n",
      "   macro avg       0.88      0.93      0.90    270740\n",
      "weighted avg       0.97      0.97      0.97    270740\n",
      "\n",
      "[[241050   5912]\n",
      " [  2867  20911]]\n"
     ]
    }
   ],
   "source": [
    "classifier_report(tree, (X_train, y_train))"
   ]
  },
  {
   "cell_type": "code",
   "execution_count": 108,
   "metadata": {},
   "outputs": [
    {
     "name": "stdout",
     "output_type": "stream",
     "text": [
      "              precision    recall  f1-score   support\n",
      "\n",
      "         0.0       0.98      0.97      0.97     61742\n",
      "         1.0       0.69      0.76      0.72      5944\n",
      "\n",
      "    accuracy                           0.95     67686\n",
      "   macro avg       0.84      0.86      0.85     67686\n",
      "weighted avg       0.95      0.95      0.95     67686\n",
      "\n",
      "[[59759  1983]\n",
      " [ 1447  4497]]\n"
     ]
    }
   ],
   "source": [
    "classifier_report(tree, (X_test, y_test))"
   ]
  },
  {
   "cell_type": "code",
   "execution_count": 117,
   "metadata": {},
   "outputs": [
    {
     "name": "stdout",
     "output_type": "stream",
     "text": [
      "|--- AMT_INCOME_TOTAL <= 164191.50\n",
      "|   |--- class: 0\n",
      "|--- AMT_INCOME_TOTAL >  164191.50\n",
      "|   |--- DAYS_BIRTH <= -15622.50\n",
      "|   |   |--- DAYS_EMPLOYED <= -1485.50\n",
      "|   |   |   |--- OCCUPATION_TYPE_Waiters/barmen staff <= 0.50\n",
      "|   |   |   |   |--- AMT_INCOME_TOTAL <= 206550.00\n",
      "|   |   |   |   |   |--- FLAG_OWN_CAR <= 0.50\n",
      "|   |   |   |   |   |   |--- NAME_FAMILY_STATUS_Widow <= 0.50\n",
      "|   |   |   |   |   |   |   |--- DAYS_EMPLOYED <= -1698.50\n",
      "|   |   |   |   |   |   |   |   |--- DAYS_BIRTH <= -15799.00\n",
      "|   |   |   |   |   |   |   |   |   |--- DAYS_BIRTH <= -16224.00\n",
      "|   |   |   |   |   |   |   |   |   |   |--- DAYS_BIRTH <= -16364.00\n",
      "|   |   |   |   |   |   |   |   |   |   |   |--- truncated branch of depth 33\n",
      "|   |   |   |   |   |   |   |   |   |   |--- DAYS_BIRTH >  -16364.00\n",
      "|   |   |   |   |   |   |   |   |   |   |   |--- truncated branch of depth 12\n",
      "|   |   |   |   |   |   |   |   |   |--- DAYS_BIRTH >  -16224.00\n",
      "|   |   |   |   |   |   |   |   |   |   |--- DAYS_BIRTH <= -16219.00\n",
      "|   |   |   |   |   |   |   |   |   |   |   |--- truncated branch of depth 2\n",
      "|   |   |   |   |   |   |   |   |   |   |--- DAYS_BIRTH >  -16219.00\n",
      "|   |   |   |   |   |   |   |   |   |   |   |--- truncated branch of depth 18\n",
      "|   |   |   |   |   |   |   |   |--- DAYS_BIRTH >  -15799.00\n",
      "|   |   |   |   |   |   |   |   |   |--- OCCUPATION_TYPE_Cooking staff <= 0.50\n",
      "|   |   |   |   |   |   |   |   |   |   |--- CODE_GENDER <= 0.50\n",
      "|   |   |   |   |   |   |   |   |   |   |   |--- truncated branch of depth 15\n",
      "|   |   |   |   |   |   |   |   |   |   |--- CODE_GENDER >  0.50\n",
      "|   |   |   |   |   |   |   |   |   |   |   |--- truncated branch of depth 5\n",
      "|   |   |   |   |   |   |   |   |   |--- OCCUPATION_TYPE_Cooking staff >  0.50\n",
      "|   |   |   |   |   |   |   |   |   |   |--- class: 0\n",
      "|   |   |   |   |   |   |   |--- DAYS_EMPLOYED >  -1698.50\n",
      "|   |   |   |   |   |   |   |   |--- AMT_INCOME_TOTAL <= 184500.00\n",
      "|   |   |   |   |   |   |   |   |   |--- OCCUPATION_TYPE_Managers <= 0.50\n",
      "|   |   |   |   |   |   |   |   |   |   |--- NAME_FAMILY_STATUS_Civil marriage <= 0.50\n",
      "|   |   |   |   |   |   |   |   |   |   |   |--- truncated branch of depth 15\n",
      "|   |   |   |   |   |   |   |   |   |   |--- NAME_FAMILY_STATUS_Civil marriage >  0.50\n",
      "|   |   |   |   |   |   |   |   |   |   |   |--- truncated branch of depth 4\n",
      "|   |   |   |   |   |   |   |   |   |--- OCCUPATION_TYPE_Managers >  0.50\n",
      "|   |   |   |   |   |   |   |   |   |   |--- FLAG_WORK_PHONE <= 0.50\n",
      "|   |   |   |   |   |   |   |   |   |   |   |--- class: 1\n",
      "|   |   |   |   |   |   |   |   |   |   |--- FLAG_WORK_PHONE >  0.50\n",
      "|   |   |   |   |   |   |   |   |   |   |   |--- truncated branch of depth 4\n",
      "|   |   |   |   |   |   |   |   |--- AMT_INCOME_TOTAL >  184500.00\n",
      "|   |   |   |   |   |   |   |   |   |--- DAYS_BIRTH <= -17862.00\n",
      "|   |   |   |   |   |   |   |   |   |   |--- NAME_FAMILY_STATUS_Separated <= 0.50\n",
      "|   |   |   |   |   |   |   |   |   |   |   |--- truncated branch of depth 9\n",
      "|   |   |   |   |   |   |   |   |   |   |--- NAME_FAMILY_STATUS_Separated >  0.50\n",
      "|   |   |   |   |   |   |   |   |   |   |   |--- class: 1\n",
      "|   |   |   |   |   |   |   |   |   |--- DAYS_BIRTH >  -17862.00\n",
      "|   |   |   |   |   |   |   |   |   |   |--- NAME_INCOME_TYPE_Commercial associate <= 0.50\n",
      "|   |   |   |   |   |   |   |   |   |   |   |--- truncated branch of depth 10\n",
      "|   |   |   |   |   |   |   |   |   |   |--- NAME_INCOME_TYPE_Commercial associate >  0.50\n",
      "|   |   |   |   |   |   |   |   |   |   |   |--- class: 0\n",
      "|   |   |   |   |   |   |--- NAME_FAMILY_STATUS_Widow >  0.50\n",
      "|   |   |   |   |   |   |   |--- FLAG_EMAIL <= 0.50\n",
      "|   |   |   |   |   |   |   |   |--- NAME_INCOME_TYPE_State servant <= 0.50\n",
      "|   |   |   |   |   |   |   |   |   |--- DAYS_BIRTH <= -15657.50\n",
      "|   |   |   |   |   |   |   |   |   |   |--- DAYS_BIRTH <= -22962.00\n",
      "|   |   |   |   |   |   |   |   |   |   |   |--- truncated branch of depth 4\n",
      "|   |   |   |   |   |   |   |   |   |   |--- DAYS_BIRTH >  -22962.00\n",
      "|   |   |   |   |   |   |   |   |   |   |   |--- truncated branch of depth 18\n",
      "|   |   |   |   |   |   |   |   |   |--- DAYS_BIRTH >  -15657.50\n",
      "|   |   |   |   |   |   |   |   |   |   |--- class: 0\n",
      "|   |   |   |   |   |   |   |   |--- NAME_INCOME_TYPE_State servant >  0.50\n",
      "|   |   |   |   |   |   |   |   |   |--- DAYS_BIRTH <= -22466.50\n",
      "|   |   |   |   |   |   |   |   |   |   |--- DAYS_EMPLOYED <= -5389.50\n",
      "|   |   |   |   |   |   |   |   |   |   |   |--- class: 0\n",
      "|   |   |   |   |   |   |   |   |   |   |--- DAYS_EMPLOYED >  -5389.50\n",
      "|   |   |   |   |   |   |   |   |   |   |   |--- class: 0\n",
      "|   |   |   |   |   |   |   |   |   |--- DAYS_BIRTH >  -22466.50\n",
      "|   |   |   |   |   |   |   |   |   |   |--- NAME_HOUSING_TYPE_Municipal apartment <= 0.50\n",
      "|   |   |   |   |   |   |   |   |   |   |   |--- truncated branch of depth 7\n",
      "|   |   |   |   |   |   |   |   |   |   |--- NAME_HOUSING_TYPE_Municipal apartment >  0.50\n",
      "|   |   |   |   |   |   |   |   |   |   |   |--- class: 0\n",
      "|   |   |   |   |   |   |   |--- FLAG_EMAIL >  0.50\n",
      "|   |   |   |   |   |   |   |   |--- DAYS_BIRTH <= -20592.50\n",
      "|   |   |   |   |   |   |   |   |   |--- class: 1\n",
      "|   |   |   |   |   |   |   |   |--- DAYS_BIRTH >  -20592.50\n",
      "|   |   |   |   |   |   |   |   |   |--- class: 1\n",
      "|   |   |   |   |   |--- FLAG_OWN_CAR >  0.50\n",
      "|   |   |   |   |   |   |--- DAYS_BIRTH <= -23622.50\n",
      "|   |   |   |   |   |   |   |--- class: 1\n",
      "|   |   |   |   |   |   |--- DAYS_BIRTH >  -23622.50\n",
      "|   |   |   |   |   |   |   |--- CNT_FAM_MEMBERS <= 4.50\n",
      "|   |   |   |   |   |   |   |   |--- DAYS_EMPLOYED <= -1681.50\n",
      "|   |   |   |   |   |   |   |   |   |--- DAYS_EMPLOYED <= -1702.50\n",
      "|   |   |   |   |   |   |   |   |   |   |--- DAYS_EMPLOYED <= -1706.00\n",
      "|   |   |   |   |   |   |   |   |   |   |   |--- truncated branch of depth 33\n",
      "|   |   |   |   |   |   |   |   |   |   |--- DAYS_EMPLOYED >  -1706.00\n",
      "|   |   |   |   |   |   |   |   |   |   |   |--- class: 0\n",
      "|   |   |   |   |   |   |   |   |   |--- DAYS_EMPLOYED >  -1702.50\n",
      "|   |   |   |   |   |   |   |   |   |   |--- DAYS_BIRTH <= -17054.50\n",
      "|   |   |   |   |   |   |   |   |   |   |   |--- truncated branch of depth 4\n",
      "|   |   |   |   |   |   |   |   |   |   |--- DAYS_BIRTH >  -17054.50\n",
      "|   |   |   |   |   |   |   |   |   |   |   |--- class: 1\n",
      "|   |   |   |   |   |   |   |   |--- DAYS_EMPLOYED >  -1681.50\n",
      "|   |   |   |   |   |   |   |   |   |--- OCCUPATION_TYPE_High skill tech staff <= 0.50\n",
      "|   |   |   |   |   |   |   |   |   |   |--- DAYS_EMPLOYED <= -1642.50\n",
      "|   |   |   |   |   |   |   |   |   |   |   |--- truncated branch of depth 6\n",
      "|   |   |   |   |   |   |   |   |   |   |--- DAYS_EMPLOYED >  -1642.50\n",
      "|   |   |   |   |   |   |   |   |   |   |   |--- truncated branch of depth 14\n",
      "|   |   |   |   |   |   |   |   |   |--- OCCUPATION_TYPE_High skill tech staff >  0.50\n",
      "|   |   |   |   |   |   |   |   |   |   |--- DAYS_BIRTH <= -16145.50\n",
      "|   |   |   |   |   |   |   |   |   |   |   |--- class: 1\n",
      "|   |   |   |   |   |   |   |   |   |   |--- DAYS_BIRTH >  -16145.50\n",
      "|   |   |   |   |   |   |   |   |   |   |   |--- class: 1\n",
      "|   |   |   |   |   |   |   |--- CNT_FAM_MEMBERS >  4.50\n",
      "|   |   |   |   |   |   |   |   |--- NAME_FAMILY_STATUS_Civil marriage <= 0.50\n",
      "|   |   |   |   |   |   |   |   |   |--- OCCUPATION_TYPE_High skill tech staff <= 0.50\n",
      "|   |   |   |   |   |   |   |   |   |   |--- DAYS_EMPLOYED <= -3659.00\n",
      "|   |   |   |   |   |   |   |   |   |   |   |--- truncated branch of depth 3\n",
      "|   |   |   |   |   |   |   |   |   |   |--- DAYS_EMPLOYED >  -3659.00\n",
      "|   |   |   |   |   |   |   |   |   |   |   |--- class: 0\n",
      "|   |   |   |   |   |   |   |   |   |--- OCCUPATION_TYPE_High skill tech staff >  0.50\n",
      "|   |   |   |   |   |   |   |   |   |   |--- class: 1\n",
      "|   |   |   |   |   |   |   |   |--- NAME_FAMILY_STATUS_Civil marriage >  0.50\n",
      "|   |   |   |   |   |   |   |   |   |--- class: 1\n",
      "|   |   |   |   |--- AMT_INCOME_TOTAL >  206550.00\n",
      "|   |   |   |   |   |--- FLAG_EMAIL <= 0.50\n",
      "|   |   |   |   |   |   |--- OCCUPATION_TYPE_Cleaning staff <= 0.50\n",
      "|   |   |   |   |   |   |   |--- CNT_FAM_MEMBERS <= 4.50\n",
      "|   |   |   |   |   |   |   |   |--- DAYS_EMPLOYED <= -1521.00\n",
      "|   |   |   |   |   |   |   |   |   |--- DAYS_EMPLOYED <= -1679.50\n",
      "|   |   |   |   |   |   |   |   |   |   |--- DAYS_EMPLOYED <= -1709.50\n",
      "|   |   |   |   |   |   |   |   |   |   |   |--- truncated branch of depth 65\n",
      "|   |   |   |   |   |   |   |   |   |   |--- DAYS_EMPLOYED >  -1709.50\n",
      "|   |   |   |   |   |   |   |   |   |   |   |--- truncated branch of depth 11\n",
      "|   |   |   |   |   |   |   |   |   |--- DAYS_EMPLOYED >  -1679.50\n",
      "|   |   |   |   |   |   |   |   |   |   |--- DAYS_EMPLOYED <= -1631.50\n",
      "|   |   |   |   |   |   |   |   |   |   |   |--- truncated branch of depth 18\n",
      "|   |   |   |   |   |   |   |   |   |   |--- DAYS_EMPLOYED >  -1631.50\n",
      "|   |   |   |   |   |   |   |   |   |   |   |--- truncated branch of depth 20\n",
      "|   |   |   |   |   |   |   |   |--- DAYS_EMPLOYED >  -1521.00\n",
      "|   |   |   |   |   |   |   |   |   |--- NAME_FAMILY_STATUS_Single / not married <= 0.50\n",
      "|   |   |   |   |   |   |   |   |   |   |--- AMT_INCOME_TOTAL <= 265500.00\n",
      "|   |   |   |   |   |   |   |   |   |   |   |--- truncated branch of depth 9\n",
      "|   |   |   |   |   |   |   |   |   |   |--- AMT_INCOME_TOTAL >  265500.00\n",
      "|   |   |   |   |   |   |   |   |   |   |   |--- truncated branch of depth 8\n",
      "|   |   |   |   |   |   |   |   |   |--- NAME_FAMILY_STATUS_Single / not married >  0.50\n",
      "|   |   |   |   |   |   |   |   |   |   |--- FLAG_OWN_REALTY <= 0.50\n",
      "|   |   |   |   |   |   |   |   |   |   |   |--- class: 0\n",
      "|   |   |   |   |   |   |   |   |   |   |--- FLAG_OWN_REALTY >  0.50\n",
      "|   |   |   |   |   |   |   |   |   |   |   |--- truncated branch of depth 4\n",
      "|   |   |   |   |   |   |   |--- CNT_FAM_MEMBERS >  4.50\n",
      "|   |   |   |   |   |   |   |   |--- DAYS_BIRTH <= -21175.00\n",
      "|   |   |   |   |   |   |   |   |   |--- class: 0\n",
      "|   |   |   |   |   |   |   |   |--- DAYS_BIRTH >  -21175.00\n",
      "|   |   |   |   |   |   |   |   |   |--- DAYS_EMPLOYED <= -4964.00\n",
      "|   |   |   |   |   |   |   |   |   |   |--- AMT_INCOME_TOTAL <= 240750.00\n",
      "|   |   |   |   |   |   |   |   |   |   |   |--- truncated branch of depth 2\n",
      "|   |   |   |   |   |   |   |   |   |   |--- AMT_INCOME_TOTAL >  240750.00\n",
      "|   |   |   |   |   |   |   |   |   |   |   |--- truncated branch of depth 5\n",
      "|   |   |   |   |   |   |   |   |   |--- DAYS_EMPLOYED >  -4964.00\n",
      "|   |   |   |   |   |   |   |   |   |   |--- DAYS_BIRTH <= -19445.00\n",
      "|   |   |   |   |   |   |   |   |   |   |   |--- truncated branch of depth 2\n",
      "|   |   |   |   |   |   |   |   |   |   |--- DAYS_BIRTH >  -19445.00\n",
      "|   |   |   |   |   |   |   |   |   |   |   |--- truncated branch of depth 8\n",
      "|   |   |   |   |   |   |--- OCCUPATION_TYPE_Cleaning staff >  0.50\n",
      "|   |   |   |   |   |   |   |--- DAYS_EMPLOYED <= -1856.50\n",
      "|   |   |   |   |   |   |   |   |--- FLAG_PHONE <= 0.50\n",
      "|   |   |   |   |   |   |   |   |   |--- DAYS_EMPLOYED <= -2208.50\n",
      "|   |   |   |   |   |   |   |   |   |   |--- NAME_FAMILY_STATUS_Widow <= 0.50\n",
      "|   |   |   |   |   |   |   |   |   |   |   |--- truncated branch of depth 9\n",
      "|   |   |   |   |   |   |   |   |   |   |--- NAME_FAMILY_STATUS_Widow >  0.50\n",
      "|   |   |   |   |   |   |   |   |   |   |   |--- class: 1\n",
      "|   |   |   |   |   |   |   |   |   |--- DAYS_EMPLOYED >  -2208.50\n",
      "|   |   |   |   |   |   |   |   |   |   |--- NAME_FAMILY_STATUS_Widow <= 0.50\n",
      "|   |   |   |   |   |   |   |   |   |   |   |--- truncated branch of depth 3\n",
      "|   |   |   |   |   |   |   |   |   |   |--- NAME_FAMILY_STATUS_Widow >  0.50\n",
      "|   |   |   |   |   |   |   |   |   |   |   |--- class: 0\n",
      "|   |   |   |   |   |   |   |   |--- FLAG_PHONE >  0.50\n",
      "|   |   |   |   |   |   |   |   |   |--- DAYS_EMPLOYED <= -5214.00\n",
      "|   |   |   |   |   |   |   |   |   |   |--- class: 1\n",
      "|   |   |   |   |   |   |   |   |   |--- DAYS_EMPLOYED >  -5214.00\n",
      "|   |   |   |   |   |   |   |   |   |   |--- DAYS_BIRTH <= -19390.00\n",
      "|   |   |   |   |   |   |   |   |   |   |   |--- truncated branch of depth 5\n",
      "|   |   |   |   |   |   |   |   |   |   |--- DAYS_BIRTH >  -19390.00\n",
      "|   |   |   |   |   |   |   |   |   |   |   |--- class: 1\n",
      "|   |   |   |   |   |   |   |--- DAYS_EMPLOYED >  -1856.50\n",
      "|   |   |   |   |   |   |   |   |--- FLAG_WORK_PHONE <= 0.50\n",
      "|   |   |   |   |   |   |   |   |   |--- NAME_FAMILY_STATUS_Single / not married <= 0.50\n",
      "|   |   |   |   |   |   |   |   |   |   |--- DAYS_EMPLOYED <= -1567.00\n",
      "|   |   |   |   |   |   |   |   |   |   |   |--- truncated branch of depth 3\n",
      "|   |   |   |   |   |   |   |   |   |   |--- DAYS_EMPLOYED >  -1567.00\n",
      "|   |   |   |   |   |   |   |   |   |   |   |--- class: 1\n",
      "|   |   |   |   |   |   |   |   |   |--- NAME_FAMILY_STATUS_Single / not married >  0.50\n",
      "|   |   |   |   |   |   |   |   |   |   |--- class: 1\n",
      "|   |   |   |   |   |   |   |   |--- FLAG_WORK_PHONE >  0.50\n",
      "|   |   |   |   |   |   |   |   |   |--- class: 0\n",
      "|   |   |   |   |   |--- FLAG_EMAIL >  0.50\n",
      "|   |   |   |   |   |   |--- DAYS_BIRTH <= -23620.00\n",
      "|   |   |   |   |   |   |   |--- NAME_INCOME_TYPE_State servant <= 0.50\n",
      "|   |   |   |   |   |   |   |   |--- class: 1\n",
      "|   |   |   |   |   |   |   |--- NAME_INCOME_TYPE_State servant >  0.50\n",
      "|   |   |   |   |   |   |   |   |--- class: 0\n",
      "|   |   |   |   |   |   |--- DAYS_BIRTH >  -23620.00\n",
      "|   |   |   |   |   |   |   |--- CODE_GENDER <= 0.50\n",
      "|   |   |   |   |   |   |   |   |--- NAME_HOUSING_TYPE_Office apartment <= 0.50\n",
      "|   |   |   |   |   |   |   |   |   |--- AMT_INCOME_TOTAL <= 249750.00\n",
      "|   |   |   |   |   |   |   |   |   |   |--- NAME_EDUCATION_TYPE_Secondary / secondary special <= 0.50\n",
      "|   |   |   |   |   |   |   |   |   |   |   |--- truncated branch of depth 13\n",
      "|   |   |   |   |   |   |   |   |   |   |--- NAME_EDUCATION_TYPE_Secondary / secondary special >  0.50\n",
      "|   |   |   |   |   |   |   |   |   |   |   |--- truncated branch of depth 14\n",
      "|   |   |   |   |   |   |   |   |   |--- AMT_INCOME_TOTAL >  249750.00\n",
      "|   |   |   |   |   |   |   |   |   |   |--- OCCUPATION_TYPE_Cleaning staff <= 0.50\n",
      "|   |   |   |   |   |   |   |   |   |   |   |--- truncated branch of depth 19\n",
      "|   |   |   |   |   |   |   |   |   |   |--- OCCUPATION_TYPE_Cleaning staff >  0.50\n",
      "|   |   |   |   |   |   |   |   |   |   |   |--- class: 0\n",
      "|   |   |   |   |   |   |   |   |--- NAME_HOUSING_TYPE_Office apartment >  0.50\n",
      "|   |   |   |   |   |   |   |   |   |--- DAYS_BIRTH <= -16312.00\n",
      "|   |   |   |   |   |   |   |   |   |   |--- FLAG_OWN_CAR <= 0.50\n",
      "|   |   |   |   |   |   |   |   |   |   |   |--- class: 1\n",
      "|   |   |   |   |   |   |   |   |   |   |--- FLAG_OWN_CAR >  0.50\n",
      "|   |   |   |   |   |   |   |   |   |   |   |--- truncated branch of depth 2\n",
      "|   |   |   |   |   |   |   |   |   |--- DAYS_BIRTH >  -16312.00\n",
      "|   |   |   |   |   |   |   |   |   |   |--- class: 0\n",
      "|   |   |   |   |   |   |   |--- CODE_GENDER >  0.50\n",
      "|   |   |   |   |   |   |   |   |--- AMT_INCOME_TOTAL <= 249750.00\n",
      "|   |   |   |   |   |   |   |   |   |--- FLAG_OWN_CAR <= 0.50\n",
      "|   |   |   |   |   |   |   |   |   |   |--- DAYS_BIRTH <= -15903.00\n",
      "|   |   |   |   |   |   |   |   |   |   |   |--- truncated branch of depth 10\n",
      "|   |   |   |   |   |   |   |   |   |   |--- DAYS_BIRTH >  -15903.00\n",
      "|   |   |   |   |   |   |   |   |   |   |   |--- truncated branch of depth 2\n",
      "|   |   |   |   |   |   |   |   |   |--- FLAG_OWN_CAR >  0.50\n",
      "|   |   |   |   |   |   |   |   |   |   |--- DAYS_BIRTH <= -15747.50\n",
      "|   |   |   |   |   |   |   |   |   |   |   |--- truncated branch of depth 10\n",
      "|   |   |   |   |   |   |   |   |   |   |--- DAYS_BIRTH >  -15747.50\n",
      "|   |   |   |   |   |   |   |   |   |   |   |--- truncated branch of depth 2\n",
      "|   |   |   |   |   |   |   |   |--- AMT_INCOME_TOTAL >  249750.00\n",
      "|   |   |   |   |   |   |   |   |   |--- DAYS_EMPLOYED <= -1814.50\n",
      "|   |   |   |   |   |   |   |   |   |   |--- DAYS_EMPLOYED <= -7684.00\n",
      "|   |   |   |   |   |   |   |   |   |   |   |--- truncated branch of depth 6\n",
      "|   |   |   |   |   |   |   |   |   |   |--- DAYS_EMPLOYED >  -7684.00\n",
      "|   |   |   |   |   |   |   |   |   |   |   |--- truncated branch of depth 21\n",
      "|   |   |   |   |   |   |   |   |   |--- DAYS_EMPLOYED >  -1814.50\n",
      "|   |   |   |   |   |   |   |   |   |   |--- DAYS_BIRTH <= -16144.50\n",
      "|   |   |   |   |   |   |   |   |   |   |   |--- truncated branch of depth 8\n",
      "|   |   |   |   |   |   |   |   |   |   |--- DAYS_BIRTH >  -16144.50\n",
      "|   |   |   |   |   |   |   |   |   |   |   |--- truncated branch of depth 3\n",
      "|   |   |   |--- OCCUPATION_TYPE_Waiters/barmen staff >  0.50\n",
      "|   |   |   |   |--- DAYS_BIRTH <= -16993.00\n",
      "|   |   |   |   |   |--- DAYS_BIRTH <= -19947.50\n",
      "|   |   |   |   |   |   |--- class: 0\n",
      "|   |   |   |   |   |--- DAYS_BIRTH >  -19947.50\n",
      "|   |   |   |   |   |   |--- NAME_EDUCATION_TYPE_Incomplete higher <= 0.50\n",
      "|   |   |   |   |   |   |   |--- DAYS_EMPLOYED <= -3459.50\n",
      "|   |   |   |   |   |   |   |   |--- AMT_INCOME_TOTAL <= 184500.00\n",
      "|   |   |   |   |   |   |   |   |   |--- class: 1\n",
      "|   |   |   |   |   |   |   |   |--- AMT_INCOME_TOTAL >  184500.00\n",
      "|   |   |   |   |   |   |   |   |   |--- NAME_EDUCATION_TYPE_Lower secondary <= 0.50\n",
      "|   |   |   |   |   |   |   |   |   |   |--- NAME_HOUSING_TYPE_House / apartment <= 0.50\n",
      "|   |   |   |   |   |   |   |   |   |   |   |--- class: 1\n",
      "|   |   |   |   |   |   |   |   |   |   |--- NAME_HOUSING_TYPE_House / apartment >  0.50\n",
      "|   |   |   |   |   |   |   |   |   |   |   |--- class: 1\n",
      "|   |   |   |   |   |   |   |   |   |--- NAME_EDUCATION_TYPE_Lower secondary >  0.50\n",
      "|   |   |   |   |   |   |   |   |   |   |--- class: 1\n",
      "|   |   |   |   |   |   |   |--- DAYS_EMPLOYED >  -3459.50\n",
      "|   |   |   |   |   |   |   |   |--- FLAG_WORK_PHONE <= 0.50\n",
      "|   |   |   |   |   |   |   |   |   |--- class: 1\n",
      "|   |   |   |   |   |   |   |   |--- FLAG_WORK_PHONE >  0.50\n",
      "|   |   |   |   |   |   |   |   |   |--- class: 1\n",
      "|   |   |   |   |   |   |--- NAME_EDUCATION_TYPE_Incomplete higher >  0.50\n",
      "|   |   |   |   |   |   |   |--- class: 0\n",
      "|   |   |   |   |--- DAYS_BIRTH >  -16993.00\n",
      "|   |   |   |   |   |--- FLAG_PHONE <= 0.50\n",
      "|   |   |   |   |   |   |--- NAME_FAMILY_STATUS_Separated <= 0.50\n",
      "|   |   |   |   |   |   |   |--- class: 0\n",
      "|   |   |   |   |   |   |--- NAME_FAMILY_STATUS_Separated >  0.50\n",
      "|   |   |   |   |   |   |   |--- class: 0\n",
      "|   |   |   |   |   |--- FLAG_PHONE >  0.50\n",
      "|   |   |   |   |   |   |--- NAME_EDUCATION_TYPE_Secondary / secondary special <= 0.50\n",
      "|   |   |   |   |   |   |   |--- class: 0\n",
      "|   |   |   |   |   |   |--- NAME_EDUCATION_TYPE_Secondary / secondary special >  0.50\n",
      "|   |   |   |   |   |   |   |--- class: 0\n",
      "|   |   |--- DAYS_EMPLOYED >  -1485.50\n",
      "|   |   |   |--- class: 0\n",
      "|   |--- DAYS_BIRTH >  -15622.50\n",
      "|   |   |--- class: 0\n",
      "\n"
     ]
    }
   ],
   "source": [
    "#tree_viz(tree,feature_names=X_train.columns.values)\n",
    "print(export_text(tree, feature_names=X_train.columns.values, class_names=[\"0\", \"1\"]))"
   ]
  },
  {
   "cell_type": "markdown",
   "metadata": {},
   "source": [
    "Vediamo cosa cambia con il Pruning"
   ]
  },
  {
   "cell_type": "code",
   "execution_count": 130,
   "metadata": {},
   "outputs": [
    {
     "data": {
      "text/plain": [
       "0.9613509440652425"
      ]
     },
     "execution_count": 130,
     "metadata": {},
     "output_type": "execute_result"
    }
   ],
   "source": [
    "tree = DecisionTreeClassifier(random_state=RANDOM_SEED, max_depth=10, min_samples_leaf=5) # min_impurity_decrease=.05, ccp_alpha=0.1\n",
    "tree.fit(X_train, y_train)\n",
    "tree.score(X_test, y_test)"
   ]
  },
  {
   "cell_type": "code",
   "execution_count": 131,
   "metadata": {},
   "outputs": [
    {
     "name": "stdout",
     "output_type": "stream",
     "text": [
      "              precision    recall  f1-score   support\n",
      "\n",
      "         0.0       1.00      0.96      0.98    246962\n",
      "         1.0       0.70      1.00      0.82     23778\n",
      "\n",
      "    accuracy                           0.96    270740\n",
      "   macro avg       0.85      0.98      0.90    270740\n",
      "weighted avg       0.97      0.96      0.96    270740\n",
      "\n",
      "[[236728  10234]\n",
      " [    92  23686]]\n"
     ]
    }
   ],
   "source": [
    "classifier_report(tree, (X_train, y_train))"
   ]
  },
  {
   "cell_type": "code",
   "execution_count": 132,
   "metadata": {},
   "outputs": [
    {
     "name": "stdout",
     "output_type": "stream",
     "text": [
      "              precision    recall  f1-score   support\n",
      "\n",
      "         0.0       1.00      0.96      0.98     61742\n",
      "         1.0       0.70      0.99      0.82      5944\n",
      "\n",
      "    accuracy                           0.96     67686\n",
      "   macro avg       0.85      0.98      0.90     67686\n",
      "weighted avg       0.97      0.96      0.96     67686\n",
      "\n",
      "[[59156  2586]\n",
      " [   30  5914]]\n"
     ]
    }
   ],
   "source": [
    "classifier_report(tree, (X_test, y_test))"
   ]
  },
  {
   "cell_type": "code",
   "execution_count": 124,
   "metadata": {},
   "outputs": [],
   "source": [
    "#tree_viz(tree, feature_names=X_train.columns.values)"
   ]
  },
  {
   "cell_type": "markdown",
   "metadata": {},
   "source": [
    "Con il pruning riusciamo ad avere un albero con delle performance molto buone"
   ]
  },
  {
   "cell_type": "markdown",
   "metadata": {},
   "source": [
    "##### RandomForest"
   ]
  },
  {
   "cell_type": "markdown",
   "metadata": {},
   "source": [
    "Addestriamo la foresta"
   ]
  },
  {
   "cell_type": "code",
   "execution_count": 104,
   "metadata": {},
   "outputs": [
    {
     "name": "stdout",
     "output_type": "stream",
     "text": [
      "Addestramento di una foresta con 1 alberi...\n",
      "Accuracy: Train=0.925 Test=0.925\n",
      "Addestramento di una foresta con 2 alberi...\n",
      "Accuracy: Train=0.942 Test=0.940\n",
      "Addestramento di una foresta con 3 alberi...\n",
      "Accuracy: Train=0.937 Test=0.936\n",
      "Addestramento di una foresta con 5 alberi...\n",
      "Accuracy: Train=0.926 Test=0.925\n",
      "Addestramento di una foresta con 10 alberi...\n",
      "Accuracy: Train=0.940 Test=0.938\n",
      "Addestramento di una foresta con 20 alberi...\n",
      "Accuracy: Train=0.944 Test=0.941\n",
      "Addestramento di una foresta con 50 alberi...\n",
      "Accuracy: Train=0.947 Test=0.944\n",
      "Addestramento di una foresta con 100 alberi...\n",
      "Accuracy: Train=0.943 Test=0.940\n",
      "Addestramento di una foresta con 500 alberi...\n",
      "Accuracy: Train=0.954 Test=0.952\n",
      "Addestramento di una foresta con 1000 alberi...\n",
      "Accuracy: Train=0.954 Test=0.950\n"
     ]
    }
   ],
   "source": [
    "for n_tree in [1, 2, 3, 5, 10, 20, 50, 100, 500, 1000]:\n",
    "  print(f\"Addestramento di una foresta con {n_tree} alberi...\")\n",
    "  forest = RandomForestClassifier(n_tree, random_state=RANDOM_SEED, max_depth=10, min_samples_leaf=5)\n",
    "  forest.fit(X_train, y_train)\n",
    "  print(f\"Accuracy: Train={forest.score(X_train, y_train):.3f} Test={forest.score(X_test, y_test):.3f}\")"
   ]
  },
  {
   "cell_type": "code",
   "execution_count": 127,
   "metadata": {},
   "outputs": [
    {
     "name": "stdout",
     "output_type": "stream",
     "text": [
      "Accuracy: Train=0.954 Test=0.950\n"
     ]
    }
   ],
   "source": [
    "forest = RandomForestClassifier(1000, random_state=RANDOM_SEED, max_depth=10, min_samples_leaf=5)\n",
    "forest.fit(X_train, y_train)\n",
    "print(f\"Accuracy: Train={forest.score(X_train, y_train):.3f} Test={forest.score(X_test, y_test):.3f}\")"
   ]
  },
  {
   "cell_type": "markdown",
   "metadata": {},
   "source": [
    "##### Modello migliore"
   ]
  },
  {
   "cell_type": "markdown",
   "metadata": {},
   "source": [
    "Il modello migliore è il Decision Tree con il pruning:\n",
    "- accuracy train: 0,96\n",
    "- accuracy test: 0,96\n"
   ]
  },
  {
   "cell_type": "code",
   "execution_count": 133,
   "metadata": {},
   "outputs": [
    {
     "name": "stdout",
     "output_type": "stream",
     "text": [
      "              precision    recall  f1-score   support\n",
      "\n",
      "         0.0       1.00      0.96      0.98    246962\n",
      "         1.0       0.70      1.00      0.82     23778\n",
      "\n",
      "    accuracy                           0.96    270740\n",
      "   macro avg       0.85      0.98      0.90    270740\n",
      "weighted avg       0.97      0.96      0.96    270740\n",
      "\n",
      "[[236728  10234]\n",
      " [    92  23686]]\n",
      "              precision    recall  f1-score   support\n",
      "\n",
      "         0.0       1.00      0.96      0.98     61742\n",
      "         1.0       0.70      0.99      0.82      5944\n",
      "\n",
      "    accuracy                           0.96     67686\n",
      "   macro avg       0.85      0.98      0.90     67686\n",
      "weighted avg       0.97      0.96      0.96     67686\n",
      "\n",
      "[[59156  2586]\n",
      " [   30  5914]]\n"
     ]
    }
   ],
   "source": [
    "tree = DecisionTreeClassifier(random_state=RANDOM_SEED, max_depth=10, min_samples_leaf=5) # min_impurity_decrease=.05, ccp_alpha=0.1\n",
    "tree.fit(X_train, y_train)\n",
    "tree.score(X_test, y_test)\n",
    "classifier_report(tree, (X_train, y_train))\n",
    "classifier_report(tree, (X_test, y_test))"
   ]
  },
  {
   "cell_type": "markdown",
   "metadata": {},
   "source": [
    "Probabilmente è migliorabile perché ci son tanti falsi positivi. Dipende dall'utilizzo. In questo caso funziona bene con i negativi, ossia clienti a cui viene negata la carta di credito a causa di una bassa affidabilità creditizia.\n",
    "\n",
    "Se si vuole prediligere il riconoscimento dei positivi, quindi aumentare la precisione della classe 1 e diminuire i falsi positivi, occorre modificare la soglia di attribuzione"
   ]
  },
  {
   "cell_type": "code",
   "execution_count": 160,
   "metadata": {},
   "outputs": [
    {
     "name": "stdout",
     "output_type": "stream",
     "text": [
      "TRAIN REPORT\n",
      "              precision    recall  f1-score   support\n",
      "\n",
      "         0.0       0.98      0.97      0.97    246962\n",
      "         1.0       0.71      0.77      0.74     23778\n",
      "\n",
      "    accuracy                           0.95    270740\n",
      "   macro avg       0.84      0.87      0.86    270740\n",
      "weighted avg       0.95      0.95      0.95    270740\n",
      "\n",
      "TEST REPORT\n",
      "              precision    recall  f1-score   support\n",
      "\n",
      "         0.0       0.98      0.97      0.97     61742\n",
      "         1.0       0.70      0.76      0.73      5944\n",
      "\n",
      "    accuracy                           0.95     67686\n",
      "   macro avg       0.84      0.87      0.85     67686\n",
      "weighted avg       0.95      0.95      0.95     67686\n",
      "\n"
     ]
    }
   ],
   "source": [
    "y_proba_train = tree.predict_proba(X_train)\n",
    "y_proba_test = tree.predict_proba(X_test)\n",
    "\n",
    "y_pred_train = np.where(y_proba_train[:,1]>0.69, 1, 0)\n",
    "y_pred_test = np.where(y_proba_test[:,1]>0.69, 1, 0) \n",
    "\n",
    "print(\"TRAIN REPORT\")\n",
    "print(classification_report(y_train, y_pred_train))\n",
    "print(\"TEST REPORT\")\n",
    "print(classification_report(y_test, y_pred_test))\n"
   ]
  },
  {
   "cell_type": "markdown",
   "metadata": {},
   "source": [
    "L'intervento non è riuscito. Il classificatore lavora bene con la classe negativa: è preciso e sensibile nell'individuare i soggetti a bassa affidabilità creditizia (con un bassissimo di falsi negativi)."
   ]
  },
  {
   "cell_type": "markdown",
   "metadata": {},
   "source": [
    "##### Concludiamo con un piccolo test sul df modificato"
   ]
  },
  {
   "cell_type": "code",
   "execution_count": 163,
   "metadata": {},
   "outputs": [
    {
     "name": "stdout",
     "output_type": "stream",
     "text": [
      "              precision    recall  f1-score   support\n",
      "\n",
      "         0.0       1.00      0.96      0.98    246962\n",
      "         1.0       0.70      1.00      0.82     23778\n",
      "\n",
      "    accuracy                           0.96    270740\n",
      "   macro avg       0.85      0.98      0.90    270740\n",
      "weighted avg       0.97      0.96      0.96    270740\n",
      "\n",
      "[[236728  10234]\n",
      " [    92  23686]]\n",
      "              precision    recall  f1-score   support\n",
      "\n",
      "         0.0       1.00      0.96      0.98     61742\n",
      "         1.0       0.70      0.99      0.82      5944\n",
      "\n",
      "    accuracy                           0.96     67686\n",
      "   macro avg       0.85      0.98      0.90     67686\n",
      "weighted avg       0.97      0.96      0.96     67686\n",
      "\n",
      "[[59156  2586]\n",
      " [   30  5914]]\n"
     ]
    }
   ],
   "source": [
    "X = df_proc_modified.drop(columns=\"TARGET\")\n",
    "y = df_proc_modified[\"TARGET\"]\n",
    "\n",
    "X_train, X_test, y_train, y_test = train_test_split(X, y, test_size=0.2, random_state=RANDOM_SEED, stratify=y)\n",
    "\n",
    "tree_test = DecisionTreeClassifier(random_state=RANDOM_SEED, max_depth=10, min_samples_leaf=5) # min_impurity_decrease=.05, ccp_alpha=0.1\n",
    "tree_test.fit(X_train, y_train)\n",
    "tree_test.score(X_test, y_test)\n",
    "classifier_report(tree_test, (X_train, y_train))\n",
    "classifier_report(tree_test, (X_test, y_test))"
   ]
  },
  {
   "cell_type": "markdown",
   "metadata": {},
   "source": [
    "I risultati sono uguali. Non cambia nulla. Il classificatore è robusto rispetto all'errore riscontrato in DAYS_EMPLOYED"
   ]
  },
  {
   "cell_type": "markdown",
   "metadata": {},
   "source": [
    "## Algoritmo spiegabile?"
   ]
  },
  {
   "cell_type": "code",
   "execution_count": 192,
   "metadata": {},
   "outputs": [
    {
     "data": {
      "text/plain": [
       "(1, 51)"
      ]
     },
     "execution_count": 192,
     "metadata": {},
     "output_type": "execute_result"
    }
   ],
   "source": [
    "x_test = df_proc.iloc[1,:]\n",
    "x_test = x_test.drop(\"TARGET\")\n",
    "x_test = x_test.values.reshape(1,-1)\n",
    "x_test.shape"
   ]
  },
  {
   "cell_type": "code",
   "execution_count": 194,
   "metadata": {},
   "outputs": [
    {
     "name": "stderr",
     "output_type": "stream",
     "text": [
      "c:\\Users\\Francesco\\AppData\\Local\\Programs\\Python\\Python310\\lib\\site-packages\\sklearn\\base.py:493: UserWarning: X does not have valid feature names, but DecisionTreeClassifier was fitted with feature names\n",
      "  warnings.warn(\n"
     ]
    },
    {
     "data": {
      "text/plain": [
       "array([[1., 0.]])"
      ]
     },
     "execution_count": 194,
     "metadata": {},
     "output_type": "execute_result"
    }
   ],
   "source": [
    "y_test = tree.predict_proba(x_test)\n",
    "y_test"
   ]
  },
  {
   "cell_type": "code",
   "execution_count": 198,
   "metadata": {},
   "outputs": [],
   "source": [
    "from sklearn.tree import DecisionTreeClassifier, plot_tree\n",
    "import matplotlib.pyplot as plt"
   ]
  },
  {
   "cell_type": "code",
   "execution_count": 201,
   "metadata": {},
   "outputs": [
    {
     "name": "stderr",
     "output_type": "stream",
     "text": [
      "c:\\Users\\Francesco\\AppData\\Local\\Programs\\Python\\Python310\\lib\\site-packages\\sklearn\\base.py:493: UserWarning: X does not have valid feature names, but DecisionTreeClassifier was fitted with feature names\n",
      "  warnings.warn(\n",
      "c:\\Users\\Francesco\\AppData\\Local\\Programs\\Python\\Python310\\lib\\site-packages\\sklearn\\base.py:493: UserWarning: X does not have valid feature names, but DecisionTreeClassifier was fitted with feature names\n",
      "  warnings.warn(\n"
     ]
    },
    {
     "name": "stdout",
     "output_type": "stream",
     "text": [
      "Percorso per l'osservazione:\n",
      "Nodo 0: (X[44] <= 164191.5)\n",
      "Nodo 2: (X[45] <= -15622.5)\n",
      "Nodo 3: (X[46] <= -1485.5)\n",
      "Nodo 109 (foglia)\n"
     ]
    },
    {
     "data": {
      "image/png": "[encoded data removed]",
      "text/plain": [
       "<Figure size 1440x720 with 1 Axes>"
      ]
     },
     "metadata": {
      "needs_background": "light"
     },
     "output_type": "display_data"
    }
   ],
   "source": [
    "observation = X_test.iloc[1].values.reshape(1, -1)\n",
    "\n",
    "# Ottieni il percorso dell'osservazione\n",
    "node_indicator = tree.decision_path(observation)\n",
    "leave_id = tree.apply(observation)\n",
    "\n",
    "# Visualizza l'albero decisionale\n",
    "plt.figure(figsize=(20, 10))\n",
    "plt.title(\"Decision Tree\")\n",
    "plot_tree(tree, feature_names=X_train.columns, class_names=True, filled=True)\n",
    "\n",
    "# Evidenzia il percorso dell'osservazione\n",
    "n_nodes = tree.tree_.node_count\n",
    "feature = tree.tree_.feature\n",
    "threshold = tree.tree_.threshold\n",
    "\n",
    "# Ottieni gli indici dei nodi nel percorso\n",
    "node_index = node_indicator.indices[node_indicator.indptr[0]:node_indicator.indptr[1]]\n",
    "\n",
    "print('Percorso per l\\'osservazione:')\n",
    "for node_id in node_index:\n",
    "    if leave_id[0] == node_id:\n",
    "        print(f'Nodo {node_id} (foglia)')\n",
    "    else:\n",
    "        print(f'Nodo {node_id}: (X[{feature[node_id]}] <= {threshold[node_id]})')\n",
    "\n",
    "plt.show()"
   ]
  },
  {
   "cell_type": "markdown",
   "metadata": {},
   "source": [
    "## Impacchettamento finale"
   ]
  },
  {
   "cell_type": "code",
   "execution_count": 228,
   "metadata": {},
   "outputs": [],
   "source": [
    "import pandas as pd\n",
    "import numpy as np\n",
    "import matplotlib.pyplot as plt\n",
    "import seaborn as sns\n",
    "\n",
    "from sklearn.preprocessing import OneHotEncoder, OrdinalEncoder\n",
    "from sklearn.compose import ColumnTransformer\n",
    "\n",
    "from sklearn.model_selection import train_test_split\n",
    "from sklearn.tree import DecisionTreeClassifier, plot_tree\n",
    "from sklearn.ensemble import RandomForestClassifier\n",
    "from sklearn.metrics import classification_report, confusion_matrix\n",
    "\n",
    "from sklearn.tree import export_graphviz,export_text\n",
    "from IPython.display import Image, display\n",
    "import graphviz\n",
    "\n",
    "\n",
    "RANDOM_SEED = 1234"
   ]
  },
  {
   "cell_type": "markdown",
   "metadata": {},
   "source": [
    "Carico i dati e li divido in train-test"
   ]
  },
  {
   "cell_type": "code",
   "execution_count": 242,
   "metadata": {},
   "outputs": [
    {
     "name": "stdout",
     "output_type": "stream",
     "text": [
      "(270741, 18) (67686, 18)\n",
      "(270741,) (67686,)\n"
     ]
    }
   ],
   "source": [
    "URL = \"credit_scoring.csv\"\n",
    "df = pd.read_csv(URL)\n",
    "\n",
    "X = df.drop(columns=\"TARGET\")\n",
    "y = df[\"TARGET\"]\n",
    "\n",
    "X_train, X_test, y_train, y_test = train_test_split(X, y, test_size=0.2, random_state=RANDOM_SEED, stratify=y)\n",
    "print(X_train.shape, X_test.shape)  \n",
    "print(y_train.shape, y_test.shape)"
   ]
  },
  {
   "cell_type": "markdown",
   "metadata": {},
   "source": [
    "Funzione che effettua il preprocessing sui dataset"
   ]
  },
  {
   "cell_type": "code",
   "execution_count": 243,
   "metadata": {},
   "outputs": [],
   "source": [
    "def df_preprocessing(X,y,encoder=None,verbose=True):\n",
    "\n",
    "    df_proc = pd.concat([X, y], axis=1)\n",
    "    duplicates = df_proc.duplicated()\n",
    "\n",
    "    df_proc.dropna(subset=[\"NAME_FAMILY_STATUS\"], inplace=True)\n",
    "    df_proc.drop(columns=[\"ID\",\"FLAG_MOBIL\"], inplace=True)\n",
    "    df_proc[\"OCCUPATION_TYPE\"] = df_proc[\"OCCUPATION_TYPE\"].fillna(\"unknown_occupation\") \n",
    "\n",
    "    cat_features = [col for col in df_proc.columns if df_proc[col].dtypes == 'object']\n",
    "\n",
    "    if encoder is None:\n",
    "        encoder = ColumnTransformer([('LE', OrdinalEncoder(), cat_features[:3]),\n",
    "                                    ('OHE', OneHotEncoder(), cat_features[3:])], remainder=\"passthrough\")\n",
    "        df_transformed = encoder.fit_transform(df_proc)\n",
    "        print(\"fit_transform in progress...\")\n",
    "\n",
    "    else:\n",
    "        df_transformed = encoder.transform(df_proc)\n",
    "        print(\"transform in progress...\")\n",
    "        \n",
    "    # Get feature names for OneHotEncoder\n",
    "    columns = df_proc.columns.tolist()\n",
    "    ohe_feature_names = encoder.named_transformers_['OHE'].get_feature_names_out(cat_features[3:])\n",
    "    remaining_columns = [col for col in columns if col not in cat_features]\n",
    "\n",
    "    # Combine feature names\n",
    "    all_feature_names = [\n",
    "        *cat_features[:3], \n",
    "        *ohe_feature_names, \n",
    "        *remaining_columns\n",
    "    ]\n",
    "\n",
    "    df_proc = pd.DataFrame(df_transformed, columns=all_feature_names)\n",
    "\n",
    "    if verbose:\n",
    "        print(\"Il dataset contiene\", duplicates.sum(), \"duplicati\")\n",
    "        for col in df_proc.columns:\n",
    "            if df_proc[col].isna().sum() > 0:\n",
    "                print(f\"La feature '{col}' ha {df_proc[col].isna().sum()} valori mancanti\")\n",
    "        print(\"La trasformazione ha generato un dataset con\", df_proc.shape[1], \"features rispetto alle\", df.shape[1], \"originali\")\n",
    "    \n",
    "    X_proc = df_proc.drop(columns=\"TARGET\")\n",
    "    y_proc = df_proc[\"TARGET\"]\n",
    "\n",
    "    return X_proc,y_proc, encoder\n"
   ]
  },
  {
   "cell_type": "code",
   "execution_count": 244,
   "metadata": {},
   "outputs": [
    {
     "name": "stdout",
     "output_type": "stream",
     "text": [
      "fit_transform in progress...\n",
      "Il dataset contiene 0 duplicati\n",
      "La trasformazione ha generato un dataset con 52 features rispetto alle 19 originali\n",
      "transform in progress...\n",
      "Il dataset contiene 0 duplicati\n",
      "La trasformazione ha generato un dataset con 52 features rispetto alle 19 originali\n"
     ]
    }
   ],
   "source": [
    "X_train, y_train, encoder = df_preprocessing(X_train, y_train, verbose=True)\n",
    "X_test, y_test, _ = df_preprocessing(X_test, y_test, encoder, verbose=True)\n"
   ]
  },
  {
   "cell_type": "markdown",
   "metadata": {},
   "source": [
    "Funzioni per la valutazione del classificatore"
   ]
  },
  {
   "cell_type": "code",
   "execution_count": 245,
   "metadata": {},
   "outputs": [],
   "source": [
    "def classifier_report(model, data):\n",
    "  X, y = data\n",
    "  y_pred = model.predict(X)\n",
    "  report = classification_report(y, y_pred)\n",
    "  print(report)\n",
    "  print(confusion_matrix(y, y_pred))\n",
    "\n",
    "def tree_viz(tree, feature_names=None, class_names=None):\n",
    "  dot_data = export_graphviz(tree, out_file=None,\n",
    "                        feature_names=feature_names,\n",
    "                        class_names=class_names,\n",
    "                        filled=True, rounded=True,\n",
    "                        special_characters=True)\n",
    "  graph = graphviz.Source(dot_data, filename=\"tree\", format=\"png\")\n",
    "  graph.view()\n",
    "  display(Image(\"tree.png\"))"
   ]
  },
  {
   "cell_type": "markdown",
   "metadata": {},
   "source": [
    "Miglior classificatore e metriche"
   ]
  },
  {
   "cell_type": "code",
   "execution_count": 246,
   "metadata": {},
   "outputs": [
    {
     "name": "stdout",
     "output_type": "stream",
     "text": [
      "              precision    recall  f1-score   support\n",
      "\n",
      "         0.0       1.00      0.96      0.98    246962\n",
      "         1.0       0.70      1.00      0.82     23778\n",
      "\n",
      "    accuracy                           0.96    270740\n",
      "   macro avg       0.85      0.98      0.90    270740\n",
      "weighted avg       0.97      0.96      0.96    270740\n",
      "\n",
      "[[236723  10239]\n",
      " [    92  23686]]\n",
      "              precision    recall  f1-score   support\n",
      "\n",
      "         0.0       1.00      0.96      0.98     61742\n",
      "         1.0       0.70      0.99      0.82      5944\n",
      "\n",
      "    accuracy                           0.96     67686\n",
      "   macro avg       0.85      0.98      0.90     67686\n",
      "weighted avg       0.97      0.96      0.96     67686\n",
      "\n",
      "[[59161  2581]\n",
      " [   30  5914]]\n"
     ]
    }
   ],
   "source": [
    "tree = DecisionTreeClassifier(random_state=RANDOM_SEED, max_depth=10, min_samples_leaf=5) # min_impurity_decrease=.05, ccp_alpha=0.1\n",
    "tree.fit(X_train, y_train)\n",
    "tree.score(X_test, y_test)\n",
    "classifier_report(tree, (X_train, y_train))\n",
    "classifier_report(tree, (X_test, y_test))"
   ]
  },
  {
   "cell_type": "markdown",
   "metadata": {},
   "source": [
    "Per la valutazione della spiegabilità dell'algoritmo"
   ]
  },
  {
   "cell_type": "code",
   "execution_count": 247,
   "metadata": {},
   "outputs": [
    {
     "name": "stderr",
     "output_type": "stream",
     "text": [
      "c:\\Users\\Francesco\\AppData\\Local\\Programs\\Python\\Python310\\lib\\site-packages\\sklearn\\base.py:493: UserWarning: X does not have valid feature names, but DecisionTreeClassifier was fitted with feature names\n",
      "  warnings.warn(\n",
      "c:\\Users\\Francesco\\AppData\\Local\\Programs\\Python\\Python310\\lib\\site-packages\\sklearn\\base.py:493: UserWarning: X does not have valid feature names, but DecisionTreeClassifier was fitted with feature names\n",
      "  warnings.warn(\n"
     ]
    },
    {
     "name": "stdout",
     "output_type": "stream",
     "text": [
      "Percorso per l'osservazione:\n",
      "Nodo 0: (X[44] <= 164191.5)\n",
      "Nodo 2: (X[45] <= -15622.5)\n",
      "Nodo 3: (X[46] <= -1485.5)\n",
      "Nodo 109 (foglia)\n"
     ]
    },
    {
     "data": {
      "image/png": "[encoded data removed]",
      "text/plain": [
       "<Figure size 1440x720 with 1 Axes>"
      ]
     },
     "metadata": {
      "needs_background": "light"
     },
     "output_type": "display_data"
    }
   ],
   "source": [
    "observation = X_test.iloc[1].values.reshape(1, -1)\n",
    "\n",
    "# Ottieni il percorso dell'osservazione\n",
    "node_indicator = tree.decision_path(observation)\n",
    "leave_id = tree.apply(observation)\n",
    "\n",
    "# Visualizza l'albero decisionale\n",
    "plt.figure(figsize=(20, 10))\n",
    "plt.title(\"Decision Tree\")\n",
    "plot_tree(tree, feature_names=X_train.columns, class_names=True, filled=True)\n",
    "\n",
    "# Evidenzia il percorso dell'osservazione\n",
    "n_nodes = tree.tree_.node_count\n",
    "feature = tree.tree_.feature\n",
    "threshold = tree.tree_.threshold\n",
    "\n",
    "# Ottieni gli indici dei nodi nel percorso\n",
    "node_index = node_indicator.indices[node_indicator.indptr[0]:node_indicator.indptr[1]]\n",
    "\n",
    "print('Percorso per l\\'osservazione:')\n",
    "for node_id in node_index:\n",
    "    if leave_id[0] == node_id:\n",
    "        print(f'Nodo {node_id} (foglia)')\n",
    "    else:\n",
    "        print(f'Nodo {node_id}: (X[{feature[node_id]}] <= {threshold[node_id]})')\n",
    "\n",
    "plt.show()"
   ]
  }
 ],
 "metadata": {
  "kernelspec": {
   "display_name": "Python 3",
   "language": "python",
   "name": "python3"
  },
  "language_info": {
   "codemirror_mode": {
    "name": "ipython",
    "version": 3
   },
   "file_extension": ".py",
   "mimetype": "text/x-python",
   "name": "python",
   "nbconvert_exporter": "python",
   "pygments_lexer": "ipython3",
   "version": "3.10.2"
  }
 },
 "nbformat": 4,
 "nbformat_minor": 2
}
